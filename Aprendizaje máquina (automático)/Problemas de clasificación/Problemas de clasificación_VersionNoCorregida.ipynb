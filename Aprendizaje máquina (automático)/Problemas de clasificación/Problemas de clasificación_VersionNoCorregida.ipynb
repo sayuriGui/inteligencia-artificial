{
 "cells": [
  {
   "cell_type": "markdown",
   "id": "13895df9",
   "metadata": {},
   "source": [
    "# Actividad: Problemas de clasificación\n",
    "## Tania Sayuri Guizado Hernandez A01640092\n",
    "\n",
    "### Ejercicio 1 (50 puntos)\n",
    "En este ejercicio trabajarás con el conjunto de datos que se te asignó de acuerdo al último número de tu matrícula (ver las notas del ejercicio). En estos archivos se tienen datos procesados de un experimento de psicología en el que se mide la respuesta cerebral cuando un sujeto presta atención a un estímulo visual que aparece de manera repentina y cuando no presta atención a dicho estímulo visual. Los datos están en archivos de texto, los cuales se cargan con la función loadtxt de numpy. La primera columna corresponde a la clase (1 o 2). La clase 1 representa cuando el sujeto está prestando atención, y la clase 2 cuando no lo hace. La segunda columna se ignora, mientras que el resto de las columnas indican las variables que se calcularon de la respuesta cerebral medida con la técnicas de Electroencefaolografía para cada caso.\n",
    "\n",
    "Para tu conjunto de datos:"
   ]
  },
  {
   "cell_type": "code",
   "execution_count": 1,
   "id": "64b1d707",
   "metadata": {},
   "outputs": [],
   "source": [
    "# Cargamos primero las librerías que se utilizarán en la actividad \n",
    "import pandas as pd\n",
    "import numpy as np\n",
    "import matplotlib.pyplot as plt\n",
    "import random\n",
    "from sklearn.model_selection import train_test_split, StratifiedKFold, cross_val_score\n",
    "from sklearn.metrics import classification_report, accuracy_score, make_scorer, f1_score\n",
    "from sklearn.preprocessing import StandardScaler, LabelEncoder\n",
    "from sklearn.ensemble import RandomForestClassifier\n",
    "from sklearn.svm import SVC\n",
    "from sklearn.neighbors import KNeighborsClassifier\n",
    "from sklearn.linear_model import LogisticRegression\n",
    "from sklearn.tree import DecisionTreeClassifier\n",
    "from sklearn.discriminant_analysis import LinearDiscriminantAnalysis\n",
    "from sklearn.feature_selection import SelectKBest, f_classif, RFE, SequentialFeatureSelector\n",
    "import statsmodels.formula.api as smf\n",
    "# Cargamos el conjunto de datos que se usara.\n",
    "df = np.loadtxt(\"P1_2.txt\")"
   ]
  },
  {
   "cell_type": "markdown",
   "id": "e4fa3fcd",
   "metadata": {},
   "source": [
    "#### 1.- Determina si es necesario balancear los datos. En caso de que sea afirmativo, en todo este ejercicio tendrás que utilizar alguna estrategia para mitigar el problema de tener una muestra desbalanceada."
   ]
  },
  {
   "cell_type": "code",
   "execution_count": 2,
   "id": "eea5933f",
   "metadata": {},
   "outputs": [
    {
     "name": "stdout",
     "output_type": "stream",
     "text": [
      "----- Muestra desbalanceada -----\n",
      "              precision    recall  f1-score   support\n",
      "\n",
      "         1.0       0.67      0.55      0.60       284\n",
      "         2.0       0.93      0.96      0.94      1706\n",
      "\n",
      "    accuracy                           0.90      1990\n",
      "   macro avg       0.80      0.75      0.77      1990\n",
      "weighted avg       0.89      0.90      0.89      1990\n",
      "\n"
     ]
    }
   ],
   "source": [
    "##### Precisión con una muestra desbalanceada #####\n",
    "print(\"----- Muestra desbalanceada -----\")\n",
    "x = df[:,1:]\n",
    "y = df[:,0]\n",
    "kf = StratifiedKFold(n_splits=5, shuffle = True)\n",
    "clf = SVC(kernel = 'linear')\n",
    "cv_y_test = []\n",
    "cv_y_pred = []\n",
    "for train_index, test_index in kf.split(x, y):\n",
    "    # Fase de entrenamiento\n",
    "    x_train = x[train_index, :]\n",
    "    y_train = y[train_index]\n",
    "    clf.fit(x_train, y_train)\n",
    "    # Fase de prueba\n",
    "    x_test = x[test_index, :]\n",
    "    y_test = y[test_index]\n",
    "    y_pred = clf.predict(x_test)\n",
    "    cv_y_test.append(y_test)\n",
    "    cv_y_pred.append(y_pred)\n",
    "print(classification_report(np.concatenate(cv_y_test), np.concatenate(cv_y_pred)))"
   ]
  },
  {
   "cell_type": "code",
   "execution_count": 3,
   "id": "2df776f5",
   "metadata": {},
   "outputs": [
    {
     "name": "stdout",
     "output_type": "stream",
     "text": [
      "-------- Upsampling --------\n",
      "              precision    recall  f1-score   support\n",
      "\n",
      "         1.0       0.47      0.80      0.59       284\n",
      "         2.0       0.96      0.85      0.90      1706\n",
      "\n",
      "    accuracy                           0.84      1990\n",
      "   macro avg       0.71      0.83      0.75      1990\n",
      "weighted avg       0.89      0.84      0.86      1990\n",
      "\n"
     ]
    }
   ],
   "source": [
    "##### Precisión con una muestra balanceada (Upsampling) #####\n",
    "print(\"-------- Upsampling --------\")\n",
    "clf = SVC(kernel = 'linear')\n",
    "kf = StratifiedKFold(n_splits=5, shuffle = True)\n",
    "cv_y_test = []\n",
    "cv_y_pred = []\n",
    "for train_index, test_index in kf.split(x, y):\n",
    "    # Fase de entrenamiento\n",
    "    x_train = x[train_index, :]\n",
    "    y_train = y[train_index]\n",
    "    x1 = x_train[y_train==1, :]\n",
    "    y1 = y_train[y_train==1]\n",
    "    n1 = len(y1)\n",
    "    x2 = x_train[y_train==2, :]\n",
    "    y2 = y_train[y_train==2]\n",
    "    n2 = len(y2)\n",
    "    ind = random.choices([i for i in range(n1)], k = n2)\n",
    "    x_sub = np.concatenate((x1[ind,:], x2), axis=0)\n",
    "    y_sub = np.concatenate((y1[ind], y2), axis=0)\n",
    "    clf.fit(x_sub, y_sub)\n",
    "    # Fase de prueba\n",
    "    x_test = x[test_index, :]\n",
    "    y_test = y[test_index]\n",
    "    y_pred = clf.predict(x_test)\n",
    "    cv_y_test.append(y_test)\n",
    "    cv_y_pred.append(y_pred)\n",
    "print(classification_report(np.concatenate(cv_y_test), np.concatenate(cv_y_pred)))"
   ]
  },
  {
   "cell_type": "markdown",
   "id": "e08f8feb",
   "metadata": {},
   "source": [
    "Se evalúo con todas las estrategias de balanceo y la muestra sin balancear para reconocer si era necesario realizar el balanceo llegando a los siguientes resultados:\n",
    "- Muestra desbalanceada:\n",
    "    - Accuracy: 0.90\n",
    "    - F1-score para la clase 1: 0.61\n",
    "    - F1-score para la clase 2: 0.94\n",
    "\n",
    "- Subsampling:\n",
    "    - Accuracy: 0.80\n",
    "    - F1-score para la clase 1: 0.53\n",
    "    - F1-score para la clase 2: 0.87\n",
    "\n",
    "- Upsampling:\n",
    "    - Accuracy: 0.85\n",
    "    - F1-score para la clase 1: 0.60\n",
    "    - F1-score para la clase 2: 0.91\n",
    "    \n",
    "- Weighted Loss Function:\n",
    "\n",
    "    - Accuracy: 0.85\n",
    "    - F1-score para la clase 1: 0.60\n",
    "    - F1-score para la clase 2: 0.91\n",
    "    \n",
    "Basándonos en estos resultados, podemos observar que al aplicar estrategias de balanceo de clases como subsampling, upsampling y weighted loss function, el rendimiento de la F1-score para la clase 1 mejora en comparación con el modelo entrenado que con el conjunto de datos desbalanceado. Esto indica que el balanceo de datos puede ser beneficioso y se decide realizarlo.\n",
    "\n",
    "En particular, la estrategia de subsampling muestra una disminución en el accuracy pero una mejora en el F1-score para la clase 1 en comparación con el modelo desbalanceado. Upsampling y el uso de la función de pérdida ponderada también mejoran el F1-score para la clase 1 sin degradar significativamente la precisión global. Por lo tanto, debido a que la clase Unsampling muestra resultados que sugieren un buen equilibrio entre precisión global y rendimiento en la clase 1 se elige como la mejor estrategia de balanceo."
   ]
  },
  {
   "cell_type": "markdown",
   "id": "06a14fa9",
   "metadata": {},
   "source": [
    "#### 2.- Evalúa al menos 5 modelos de clasificación distintos utilizando validación cruzada, y determina cuál de ellos es el más efectivo."
   ]
  },
  {
   "cell_type": "code",
   "execution_count": 4,
   "id": "c0f30948",
   "metadata": {},
   "outputs": [
    {
     "name": "stdout",
     "output_type": "stream",
     "text": [
      "----- Linear-SVM -----\n",
      "              precision    recall  f1-score   support\n",
      "\n",
      "         1.0       0.69      0.57      0.62       284\n",
      "         2.0       0.93      0.96      0.94      1706\n",
      "\n",
      "    accuracy                           0.90      1990\n",
      "   macro avg       0.81      0.76      0.78      1990\n",
      "weighted avg       0.90      0.90      0.90      1990\n",
      "\n",
      "----- RBF-SVM -----\n",
      "              precision    recall  f1-score   support\n",
      "\n",
      "         1.0       0.89      0.40      0.56       284\n",
      "         2.0       0.91      0.99      0.95      1706\n",
      "\n",
      "    accuracy                           0.91      1990\n",
      "   macro avg       0.90      0.70      0.75      1990\n",
      "weighted avg       0.91      0.91      0.89      1990\n",
      "\n",
      "----- KNN -----\n",
      "              precision    recall  f1-score   support\n",
      "\n",
      "         1.0       0.88      0.15      0.26       284\n",
      "         2.0       0.88      1.00      0.93      1706\n",
      "\n",
      "    accuracy                           0.88      1990\n",
      "   macro avg       0.88      0.57      0.60      1990\n",
      "weighted avg       0.88      0.88      0.84      1990\n",
      "\n",
      "----- Decision Tree -----\n",
      "              precision    recall  f1-score   support\n",
      "\n",
      "         1.0       0.34      0.40      0.37       284\n",
      "         2.0       0.90      0.87      0.88      1706\n",
      "\n",
      "    accuracy                           0.80      1990\n",
      "   macro avg       0.62      0.63      0.62      1990\n",
      "weighted avg       0.82      0.80      0.81      1990\n",
      "\n",
      "----- Linear Discriminant Analysis -----\n",
      "              precision    recall  f1-score   support\n",
      "\n",
      "         1.0       0.68      0.55      0.61       284\n",
      "         2.0       0.93      0.96      0.94      1706\n",
      "\n",
      "    accuracy                           0.90      1990\n",
      "   macro avg       0.80      0.75      0.77      1990\n",
      "weighted avg       0.89      0.90      0.89      1990\n",
      "\n",
      "----- Random Forest -----\n",
      "              precision    recall  f1-score   support\n",
      "\n",
      "         1.0       0.92      0.08      0.15       284\n",
      "         2.0       0.87      1.00      0.93      1706\n",
      "\n",
      "    accuracy                           0.87      1990\n",
      "   macro avg       0.90      0.54      0.54      1990\n",
      "weighted avg       0.88      0.87      0.82      1990\n",
      "\n",
      "----- Logistic Regression -----\n",
      "              precision    recall  f1-score   support\n",
      "\n",
      "         1.0       0.70      0.58      0.63       284\n",
      "         2.0       0.93      0.96      0.95      1706\n",
      "\n",
      "    accuracy                           0.91      1990\n",
      "   macro avg       0.82      0.77      0.79      1990\n",
      "weighted avg       0.90      0.91      0.90      1990\n",
      "\n",
      "Resultados de rendimiento (F1-score promedio):\n",
      "Linear-SVM: 0.62\n",
      "RBF-SVM: 0.55\n",
      "KNN: 0.26\n",
      "Decision Tree: 0.37\n",
      "Linear Discriminant Analysis: 0.61\n",
      "Random Forest: 0.15\n",
      "Logistic Regression: 0.63\n",
      "El modelo más efectivo es Logistic Regression con un F1-score promedio de 0.63\n"
     ]
    }
   ],
   "source": [
    "models = {\n",
    "    'Linear-SVM' : SVC(kernel='linear'),\n",
    "    'RBF-SVM': SVC(kernel='rbf'),\n",
    "    'KNN': KNeighborsClassifier(),\n",
    "    'Decision Tree': DecisionTreeClassifier(),\n",
    "    'Linear Discriminant Analysis': LinearDiscriminantAnalysis(),\n",
    "    'Random Forest': RandomForestClassifier(),\n",
    "    'Logistic Regression': LogisticRegression()\n",
    "}\n",
    "\n",
    "avg_f1_scores = {}\n",
    "scorer = make_scorer(f1_score)\n",
    "\n",
    "kf = StratifiedKFold(n_splits=5, shuffle=True, random_state=42)\n",
    "cv_y_test = []\n",
    "cv_y_pred = []\n",
    "for model_name, model in models.items():\n",
    "    print(f\"----- {model_name} -----\")\n",
    "    cv_y_test = []\n",
    "    cv_y_pred = []\n",
    "    cv_f1_scores = []\n",
    "    for train_index, test_index in kf.split(x, y):\n",
    "        x_train = x[train_index, :]\n",
    "        y_train = y[train_index]\n",
    "        x_test = x[test_index, :]\n",
    "        y_test = y[test_index]\n",
    "        model.fit(x_train, y_train)\n",
    "        y_pred = model.predict(x_test)\n",
    "        cv_y_test.append(y_test)\n",
    "        cv_y_pred.append(y_pred)\n",
    "        f1_score_value = f1_score(y_test, y_pred)\n",
    "        cv_f1_scores.append(f1_score_value)\n",
    "    avg_f1_score = np.mean(cv_f1_scores)\n",
    "    avg_f1_scores[model_name] = avg_f1_score\n",
    "    print(classification_report(np.concatenate(cv_y_test), np.concatenate(cv_y_pred)))\n",
    "    \n",
    "# Encuentra el modelo con el mejor F1-score promedio\n",
    "best_model = max(avg_f1_scores, key=avg_f1_scores.get)\n",
    "best_f1_score = avg_f1_scores[best_model]\n",
    "\n",
    "print(\"Resultados de rendimiento (F1-score promedio):\")\n",
    "for model_name, score in avg_f1_scores.items():\n",
    "    print(f\"{model_name}: {score:.2f}\")\n",
    "\n",
    "print(f\"El modelo más efectivo es {best_model} con un F1-score promedio de {best_f1_score:.2f}\")"
   ]
  },
  {
   "cell_type": "markdown",
   "id": "6ab52bc8",
   "metadata": {},
   "source": [
    "#### 3.- Implementa desde cero el método de regresión logística, y evalúalo con el conjunto de datos. "
   ]
  },
  {
   "cell_type": "code",
   "execution_count": 5,
   "id": "9917bff3",
   "metadata": {},
   "outputs": [],
   "source": [
    "# Divide los datos en conjuntos de entrenamiento y prueba\n",
    "X_train, X_test, y_train, y_test = train_test_split(x, y, test_size=0.2, random_state=42)\n",
    "\n",
    "# Normaliza las características utilizando StandardScaler\n",
    "scaler = StandardScaler()\n",
    "X_train = scaler.fit_transform(X_train)\n",
    "X_test = scaler.transform(X_test)"
   ]
  },
  {
   "cell_type": "code",
   "execution_count": 6,
   "id": "6f0916c3",
   "metadata": {},
   "outputs": [],
   "source": [
    "# Se crea la clase de regresión logistica desde 0\n",
    "class LogisticRegressionS:\n",
    "    def __init__(self, alpha=0.0005, max_iterations=100000):\n",
    "        self.alpha = alpha\n",
    "        self.max_iterations = max_iterations\n",
    "\n",
    "    def sigmoid(self, z):\n",
    "        z = np.clip(z, -500, 500)\n",
    "        return 1 / (1 + np.exp(-z))\n",
    "\n",
    "    def fit(self, X, y):\n",
    "        self.beta = self.fit_model(X, y, self.alpha, self.max_iterations)\n",
    "\n",
    "    def fit_model(self, X, y, alpha=0.0005, max_iterations=100000):\n",
    "        npredictors = X.shape[1]\n",
    "        beta = 2 * np.random.rand(npredictors) - 1.0\n",
    "        it = 0\n",
    "\n",
    "        while (np.linalg.norm(self.gradient(X, y, beta)) > 1e-4) and (it < max_iterations):\n",
    "            beta = beta - alpha * self.gradient(X, y, beta)\n",
    "            it = it + 1\n",
    "\n",
    "        return beta\n",
    "\n",
    "    def gradient(self, X, y, beta):\n",
    "        xbeta = X @ beta\n",
    "        c0 = (y == 0)\n",
    "        c1 = (y == 1)\n",
    "\n",
    "        exp0 = np.exp(xbeta[c0])\n",
    "        l0 = (exp0 / (1 + exp0)) * X[c0, :].transpose()\n",
    "\n",
    "        exp1 = np.exp(xbeta[c1])\n",
    "        l1 = (exp1 / (1 + exp1)) * X[c1, :].transpose()\n",
    "\n",
    "        return l0.sum(axis=1) - l1.sum(axis=1)\n",
    "\n",
    "    def predict(self, X):\n",
    "        xbeta = X @ self.beta\n",
    "        tmp = 1. / (1. + np.exp(-xbeta))\n",
    "        return (tmp > 0.5).astype(\"int32\")\n",
    "    \n",
    "    def accuracy(self, y_true, y_pred):\n",
    "        return np.mean(y_true == y_pred)"
   ]
  },
  {
   "cell_type": "code",
   "execution_count": 7,
   "id": "43240701",
   "metadata": {},
   "outputs": [
    {
     "name": "stdout",
     "output_type": "stream",
     "text": [
      "Precisión del modelo: 13.57%\n",
      "              precision    recall  f1-score   support\n",
      "\n",
      "         0.0       0.00      1.00      0.00         0\n",
      "         1.0       0.29      0.98      0.45        55\n",
      "         2.0       1.00      0.00      0.00       343\n",
      "\n",
      "    accuracy                           0.14       398\n",
      "   macro avg       0.43      0.66      0.15       398\n",
      "weighted avg       0.90      0.14      0.06       398\n",
      "\n"
     ]
    }
   ],
   "source": [
    "# Hacemos el modelo con nuestra clase\n",
    "model = LogisticRegressionS(alpha=0.0005, max_iterations=100)\n",
    "model.fit(x, y)\n",
    "\n",
    "# Realizar predicciones en el conjunto de prueba\n",
    "y_pred = model.predict(X_test)\n",
    "\n",
    "# Calcular y mostrar la precisión\n",
    "accuracy = model.accuracy(y_test, y_pred)\n",
    "print(f\"Precisión del modelo: {accuracy * 100:.2f}%\")\n",
    "\n",
    "# Imprime un informe de clasificación detallado\n",
    "print(classification_report(y_test, y_pred, zero_division=1))"
   ]
  },
  {
   "cell_type": "markdown",
   "id": "1b8319bb",
   "metadata": {},
   "source": [
    "#### 4.- Con alguno de los clasificadores que probaste en los pasos anteriores, determina el número óptimo de características utilizando un método tipo Filter.\n",
    "\n",
    "##### El clasificador seleccionado fue **LogisticRegression**"
   ]
  },
  {
   "cell_type": "code",
   "execution_count": 8,
   "id": "409b5d73",
   "metadata": {},
   "outputs": [
    {
     "name": "stdout",
     "output_type": "stream",
     "text": [
      "----- Selección de características usando el 50% de los predictores -----\n",
      "Características seleccionadas:  ['x13' 'x16' 'x20' 'x21' 'x29' 'x30']\n",
      "              precision    recall  f1-score   support\n",
      "\n",
      "         1.0       0.62      0.23      0.33       284\n",
      "         2.0       0.88      0.98      0.93      1706\n",
      "\n",
      "    accuracy                           0.87      1990\n",
      "   macro avg       0.75      0.60      0.63      1990\n",
      "weighted avg       0.85      0.87      0.84      1990\n",
      "\n"
     ]
    }
   ],
   "source": [
    "# Reducimos el número de características a la mitad\n",
    "print(\"----- Selección de características usando el 50% de los predictores -----\")\n",
    "# Seleccionamos las características\n",
    "fselection = SelectKBest(f_classif, k = 6)\n",
    "fselection.fit(x, y)\n",
    "print(\"Características seleccionadas: \", fselection.get_feature_names_out())\n",
    "# Ajustamos el modelo utilizando el nuevo conjunto de datos\n",
    "clf = LogisticRegression()\n",
    "x_transformed = fselection.transform(x)\n",
    "clf.fit(x_transformed, y)\n",
    "# Evaluamos el modelo utilizando validación cruzada\n",
    "cv_y_test = []\n",
    "cv_y_pred = []\n",
    "kf = StratifiedKFold(n_splits=5, shuffle=True)\n",
    "for train_index, test_index in kf.split(x, y):\n",
    "    # Fase de entrenamiento\n",
    "    x_train = x[train_index, :]\n",
    "    y_train = y[train_index]\n",
    "    clf_cv = LogisticRegression()\n",
    "    fselection_cv = SelectKBest(f_classif, k = 6)\n",
    "    fselection_cv.fit(x_train, y_train)\n",
    "    x_train = fselection_cv.transform(x_train)\n",
    "    clf_cv.fit(x_train, y_train)\n",
    "    # Fase de prueba\n",
    "    x_test = fselection_cv.transform(x[test_index, :])\n",
    "    y_test = y[test_index]\n",
    "    y_pred = clf_cv.predict(x_test)\n",
    "    cv_y_test.append(y_test)\n",
    "    cv_y_pred.append(y_pred)\n",
    "print(classification_report(np.concatenate(cv_y_test), np.concatenate(cv_y_pred)))"
   ]
  },
  {
   "cell_type": "code",
   "execution_count": 9,
   "id": "b80ddc69",
   "metadata": {},
   "outputs": [
    {
     "name": "stdout",
     "output_type": "stream",
     "text": [
      "----- Selección óptima del número de características -----\n",
      "---- n características = 1\n",
      "---- n características = 2\n",
      "---- n características = 3\n",
      "---- n características = 4\n",
      "---- n características = 5\n",
      "---- n características = 6\n",
      "---- n características = 7\n",
      "---- n características = 8\n",
      "---- n características = 9\n",
      "---- n características = 10\n",
      "---- n características = 11\n",
      "---- n características = 12\n",
      "---- n características = 13\n",
      "Número óptimo de características:  13\n"
     ]
    },
    {
     "data": {
      "image/png": "[encoded data removed]",
      "text/plain": [
       "<Figure size 640x480 with 1 Axes>"
      ]
     },
     "metadata": {},
     "output_type": "display_data"
    }
   ],
   "source": [
    "# Encontramos el número óptimo de características utilizando validación cruzada\n",
    "print(\"----- Selección óptima del número de características -----\")\n",
    "n_feats = [1, 2, 3, 4, 5, 6, 7, 8, 9, 10, 11, 12, 13]\n",
    "acc_nfeat = []\n",
    "for n_feat in n_feats:\n",
    "    print('---- n características =', n_feat)\n",
    "    acc_cv = []\n",
    "    kf = StratifiedKFold(n_splits=5, shuffle=True)\n",
    "    for train_index, test_index in kf.split(x, y):\n",
    "        # Fase de entrenamiento\n",
    "        x_train = x[train_index, :]\n",
    "        y_train = y[train_index]\n",
    "        clf_cv = LogisticRegression()\n",
    "        fselection_cv = SelectKBest(f_classif, k = n_feat)\n",
    "        fselection_cv.fit(x_train, y_train)\n",
    "        x_train = fselection_cv.transform(x_train)\n",
    "        clf_cv.fit(x_train, y_train)\n",
    "        # Fase de prueba\n",
    "        x_test = fselection_cv.transform(x[test_index, :])\n",
    "        y_test = y[test_index]\n",
    "        y_pred = clf_cv.predict(x_test)\n",
    "        acc_i = accuracy_score(y_test, y_pred)\n",
    "        acc_cv.append(acc_i)\n",
    "    acc = np.average(acc_cv)\n",
    "    acc_nfeat.append(acc)\n",
    "opt_index = np.argmax(acc_nfeat)\n",
    "opt_features = n_feats[opt_index]\n",
    "print(\"Número óptimo de características: \", opt_features)\n",
    "plt.plot(n_feats, acc_nfeat)\n",
    "plt.xlabel(\"Características\")\n",
    "plt.ylabel(\"Accuracy\")\n",
    "plt.show()"
   ]
  },
  {
   "cell_type": "markdown",
   "id": "759a1a8c",
   "metadata": {},
   "source": [
    "#### 5.- Repite el paso anterior, pero para un método de selección de características de tipo Wrapper.\n",
    "\n",
    "##### El clasificador seleccionado fue **LogisticRegression**"
   ]
  },
  {
   "cell_type": "code",
   "execution_count": 10,
   "id": "a6e06af0",
   "metadata": {},
   "outputs": [
    {
     "name": "stdout",
     "output_type": "stream",
     "text": [
      "----- Selección de características usando el 50% de los predictores -----\n",
      "Selected features:  ['x0' 'x1' 'x4' 'x7' 'x8' 'x9' 'x10' 'x11' 'x12' 'x13' 'x14' 'x15' 'x16'\n",
      " 'x17' 'x18' 'x19' 'x20' 'x21' 'x22' 'x23' 'x26' 'x27' 'x32' 'x33' 'x37'\n",
      " 'x38' 'x39' 'x40' 'x41' 'x42' 'x44' 'x48' 'x52' 'x53' 'x54' 'x55' 'x60'\n",
      " 'x67' 'x69' 'x71' 'x72' 'x73' 'x80' 'x84' 'x88' 'x91' 'x92' 'x94' 'x95'\n",
      " 'x96' 'x97' 'x98' 'x99' 'x100' 'x101' 'x102' 'x103' 'x104' 'x106' 'x107'\n",
      " 'x108' 'x109' 'x110' 'x111' 'x112' 'x113' 'x119' 'x120' 'x122' 'x126'\n",
      " 'x130' 'x131' 'x135' 'x141' 'x144' 'x149' 'x150']\n",
      "              precision    recall  f1-score   support\n",
      "\n",
      "         1.0       0.70      0.49      0.58       284\n",
      "         2.0       0.92      0.97      0.94      1706\n",
      "\n",
      "    accuracy                           0.90      1990\n",
      "   macro avg       0.81      0.73      0.76      1990\n",
      "weighted avg       0.89      0.90      0.89      1990\n",
      "\n"
     ]
    }
   ],
   "source": [
    "# Reducimos el número de características a la mitad\n",
    "print(\"----- Selección de características usando el 50% de los predictores -----\")\n",
    "# Seleccionamos las características\n",
    "clf = LogisticRegression(max_iter=10000)\n",
    "fselection = SequentialFeatureSelector(clf, n_features_to_select = 0.5)\n",
    "fselection.fit(x, y)\n",
    "print(\"Selected features: \", fselection.get_feature_names_out())\n",
    "# Ajustamos el modelo utilizando el nuevo conjunto de datos\n",
    "x_transformed = fselection.transform(x)\n",
    "clf.fit(x_transformed, y)\n",
    "# Evaluamos el modelo utilizando validación cruzada\n",
    "cv_y_test = []\n",
    "cv_y_pred = []\n",
    "kf = StratifiedKFold(n_splits=5, shuffle = True)\n",
    "for train_index, test_index in kf.split(x, y):\n",
    "    # Fase de entrenamiento\n",
    "    x_train = x[train_index, :]\n",
    "    y_train = y[train_index]\n",
    "    clf_cv = LogisticRegression(max_iter=10000)\n",
    "    fselection_cv = SequentialFeatureSelector(clf_cv, n_features_to_select=0.5)\n",
    "    fselection_cv.fit(x_train, y_train)\n",
    "    x_train = fselection_cv.transform(x_train)\n",
    "    clf_cv.fit(x_train, y_train)\n",
    "    # Fase de prueba\n",
    "    x_test = fselection_cv.transform(x[test_index, :])\n",
    "    y_test = y[test_index]\n",
    "    y_pred = clf_cv.predict(x_test)\n",
    "    cv_y_test.append(y_test)\n",
    "    cv_y_pred.append(y_pred)\n",
    "print(classification_report(np.concatenate(cv_y_test), np.concatenate(cv_y_pred)))"
   ]
  },
  {
   "cell_type": "code",
   "execution_count": 11,
   "id": "627b9fba",
   "metadata": {},
   "outputs": [
    {
     "name": "stdout",
     "output_type": "stream",
     "text": [
      "----- Selección óptima del número de características -----\n",
      "---- n características = 1\n",
      "---- n características = 2\n",
      "---- n características = 3\n",
      "---- n características = 4\n",
      "---- n características = 5\n",
      "---- n características = 6\n",
      "---- n características = 7\n",
      "---- n características = 8\n",
      "---- n características = 9\n",
      "---- n características = 10\n",
      "---- n características = 11\n",
      "---- n características = 12\n",
      "---- n características = 13\n",
      "Número óptimo de características:  10\n"
     ]
    },
    {
     "data": {
      "image/png": "[encoded data removed]",
      "text/plain": [
       "<Figure size 640x480 with 1 Axes>"
      ]
     },
     "metadata": {},
     "output_type": "display_data"
    }
   ],
   "source": [
    "# Encontrar el número óptimo de características utilizando validación cruzada\n",
    "print(\"----- Selección óptima del número de características -----\")\n",
    "n_feats = [1, 2, 3, 4, 5, 6, 7, 8, 9, 10, 11, 12, 13]\n",
    "acc_nfeat = []\n",
    "for n_feat in n_feats:\n",
    "    print('---- n características =', n_feat)\n",
    "    acc_cv = []\n",
    "    kf = StratifiedKFold(n_splits=5, shuffle = True)\n",
    "    for train_index, test_index in kf.split(x, y):\n",
    "        # Fase de entrenamiento\n",
    "        x_train = x[train_index, :]\n",
    "        y_train = y[train_index]\n",
    "        clf_cv = LogisticRegression()\n",
    "        fselection_cv = SequentialFeatureSelector(clf_cv,\n",
    "        n_features_to_select=n_feat)\n",
    "        fselection_cv.fit(x_train, y_train)\n",
    "        x_train = fselection_cv.transform(x_train)\n",
    "        clf_cv.fit(x_train, y_train)\n",
    "        # Fase de prueba\n",
    "        x_test = fselection_cv.transform(x[test_index, :])\n",
    "        y_test = y[test_index]\n",
    "        y_pred = clf_cv.predict(x_test)\n",
    "        acc_i = accuracy_score(y_test, y_pred)\n",
    "        acc_cv.append(acc_i)\n",
    "    acc = np.average(acc_cv)\n",
    "    acc_nfeat.append(acc)\n",
    "opt_index = np.argmax(acc_nfeat)\n",
    "opt_features = n_feats[opt_index]\n",
    "print(\"Número óptimo de características: \", opt_features)\n",
    "plt.plot(n_feats, acc_nfeat)\n",
    "plt.xlabel(\"Características\")\n",
    "plt.ylabel(\"Accuracy\")\n",
    "plt.show()"
   ]
  },
  {
   "cell_type": "markdown",
   "id": "e9db9379",
   "metadata": {},
   "source": [
    "#### 6.- Repite el paso 4, pero para un método de selección de características de tipo Filter-Wrapper.\n",
    "\n",
    "##### El clasificador seleccionado fue **LogisticRegression**"
   ]
  },
  {
   "cell_type": "code",
   "execution_count": 12,
   "id": "e6a27aad",
   "metadata": {},
   "outputs": [
    {
     "name": "stdout",
     "output_type": "stream",
     "text": [
      "----- Selección de características usando el 50% de los predictores -----\n",
      "Características seleccionadas ['x0' 'x1' 'x2' 'x11' 'x12' 'x13' 'x15' 'x16' 'x17' 'x18' 'x20' 'x21'\n",
      " 'x22' 'x23' 'x26' 'x27' 'x28' 'x29' 'x30' 'x31' 'x32' 'x33' 'x34' 'x37'\n",
      " 'x39' 'x41' 'x42' 'x43' 'x45' 'x46' 'x47' 'x48' 'x49' 'x50' 'x51' 'x53'\n",
      " 'x57' 'x61' 'x62' 'x63' 'x64' 'x66' 'x69' 'x70' 'x71' 'x72' 'x73' 'x74'\n",
      " 'x75' 'x76' 'x77' 'x78' 'x81' 'x82' 'x83' 'x84' 'x91' 'x96' 'x103' 'x105'\n",
      " 'x107' 'x111' 'x116' 'x117' 'x124' 'x127' 'x129' 'x130' 'x133' 'x139'\n",
      " 'x146' 'x147' 'x148' 'x150' 'x151' 'x152' 'x153']\n",
      "              precision    recall  f1-score   support\n",
      "\n",
      "         1.0       0.71      0.58      0.64       284\n",
      "         2.0       0.93      0.96      0.95      1706\n",
      "\n",
      "    accuracy                           0.91      1990\n",
      "   macro avg       0.82      0.77      0.79      1990\n",
      "weighted avg       0.90      0.91      0.90      1990\n",
      "\n"
     ]
    }
   ],
   "source": [
    "# Reducimos el número de características a la mitad\n",
    "print(\"----- Selección de características usando el 50% de los predictores -----\")\n",
    "# Seleccionamos las características\n",
    "clf = LogisticRegression(max_iter=100000)\n",
    "fselection = RFE(clf, n_features_to_select = 0.5)\n",
    "fselection.fit(x, y)\n",
    "print(\"Características seleccionadas\", fselection.get_feature_names_out())\n",
    "# Ajustamos el modelo utilizando el nuevo conjunto de datos\n",
    "x_transformed = fselection.transform(x)\n",
    "clf.fit(x_transformed, y)\n",
    "# Evaluamos el modelo utilizando validación cruzada\n",
    "cv_y_test = []\n",
    "cv_y_pred = []\n",
    "kf = StratifiedKFold(n_splits=5, shuffle = True)\n",
    "for train_index, test_index in kf.split(x, y):\n",
    "    # Fase de entrenamiento\n",
    "    x_train = x[train_index, :]\n",
    "    y_train = y[train_index]\n",
    "    clf_cv = LogisticRegression(max_iter=100000)\n",
    "    fselection_cv = RFE(clf_cv, n_features_to_select=0.5)\n",
    "    fselection_cv.fit(x_train, y_train)\n",
    "    x_train = fselection_cv.transform(x_train)\n",
    "    clf_cv.fit(x_train, y_train)\n",
    "    # Fase de prueba\n",
    "    x_test = fselection_cv.transform(x[test_index, :])\n",
    "    y_test = y[test_index]\n",
    "    y_pred = clf_cv.predict(x_test)\n",
    "    cv_y_test.append(y_test)\n",
    "    cv_y_pred.append(y_pred)\n",
    "print(classification_report(np.concatenate(cv_y_test), np.concatenate(cv_y_pred)))"
   ]
  },
  {
   "cell_type": "code",
   "execution_count": 13,
   "id": "53098fd4",
   "metadata": {},
   "outputs": [
    {
     "name": "stdout",
     "output_type": "stream",
     "text": [
      "----- Selección óptima del número de características -----\n",
      "---- n características = 1\n",
      "---- n características = 2\n",
      "---- n características = 3\n",
      "---- n características = 4\n",
      "---- n características = 5\n",
      "---- n características = 6\n",
      "---- n características = 7\n",
      "---- n características = 8\n",
      "---- n características = 9\n",
      "---- n características = 10\n",
      "---- n características = 11\n",
      "---- n características = 12\n",
      "---- n características = 13\n",
      "Número óptimo de características:  11\n"
     ]
    },
    {
     "data": {
      "image/png": "[encoded data removed]",
      "text/plain": [
       "<Figure size 640x480 with 1 Axes>"
      ]
     },
     "metadata": {},
     "output_type": "display_data"
    }
   ],
   "source": [
    "# Encontrar el número óptimo de características utilizando validación cruzada\n",
    "print(\"----- Selección óptima del número de características -----\")\n",
    "n_feats = [1, 2, 3, 4, 5, 6, 7, 8, 9, 10, 11, 12, 13]\n",
    "acc_nfeat = []\n",
    "for n_feat in n_feats:\n",
    "    print('---- n características =', n_feat)\n",
    "    acc_cv = []\n",
    "    kf = StratifiedKFold(n_splits=5, shuffle = True)\n",
    "    for train_index, test_index in kf.split(x, y):\n",
    "        # Training phase\n",
    "        x_train = x[train_index, :]\n",
    "        y_train = y[train_index]\n",
    "        clf_cv = LogisticRegression(max_iter=10000)\n",
    "        fselection_cv = RFE(clf_cv, n_features_to_select=n_feat)\n",
    "        fselection_cv.fit(x_train, y_train)\n",
    "        x_train = fselection_cv.transform(x_train)\n",
    "        clf_cv.fit(x_train, y_train)\n",
    "        # Test phase\n",
    "        x_test = fselection_cv.transform(x[test_index, :])\n",
    "        y_test = y[test_index]\n",
    "        y_pred = clf_cv.predict(x_test)\n",
    "        acc_i = accuracy_score(y_test, y_pred)\n",
    "        acc_cv.append(acc_i)\n",
    "    acc = np.average(acc_cv)\n",
    "    acc_nfeat.append(acc)\n",
    "opt_index = np.argmax(acc_nfeat)\n",
    "opt_features = n_feats[opt_index]\n",
    "print(\"Número óptimo de características: \", opt_features)\n",
    "plt.plot(n_feats, acc_nfeat)\n",
    "plt.xlabel(\"Características\")\n",
    "plt.ylabel(\"Accuracy\")\n",
    "plt.show()"
   ]
  },
  {
   "cell_type": "markdown",
   "id": "2ba4c53a",
   "metadata": {},
   "source": [
    "#### 7. Escoge alguna de las técnicas de selección de características que probaste con anteioridad, y con el número óptimo de características encontrado, prepara tu modelo para producción haciendo lo siguiente:\n",
    "\n",
    "- ##### Aplica el método de selección de características con todos los datos.\n",
    "- #####   Ajusta el modelo con las características encontradas.\n"
   ]
  },
  {
   "cell_type": "code",
   "execution_count": 14,
   "id": "864e6e34",
   "metadata": {},
   "outputs": [
    {
     "name": "stdout",
     "output_type": "stream",
     "text": [
      "Características seleccionadas:  ['x12' 'x17' 'x22' 'x28' 'x30' 'x51' 'x62' 'x64' 'x70' 'x75' 'x116']\n",
      "              precision    recall  f1-score   support\n",
      "\n",
      "         1.0       0.75      0.47      0.58       284\n",
      "         2.0       0.92      0.97      0.94      1706\n",
      "\n",
      "    accuracy                           0.90      1990\n",
      "   macro avg       0.83      0.72      0.76      1990\n",
      "weighted avg       0.89      0.90      0.89      1990\n",
      "\n"
     ]
    }
   ],
   "source": [
    "# Ajustamos el modelo con número óptimo de características con el método de características\n",
    "# Filter-Wrapper\n",
    "clf = LogisticRegression(max_iter=10000)\n",
    "fselection = RFE(clf, n_features_to_select = opt_features)\n",
    "fselection.fit(x, y)\n",
    "print(\"Características seleccionadas: \", fselection.get_feature_names_out())\n",
    "x_transformed = fselection.transform(x)\n",
    "clf.fit(x_transformed, y)\n",
    "y_pred = clf.predict(x_transformed)\n",
    "print(classification_report(y, y_pred))"
   ]
  },
  {
   "cell_type": "markdown",
   "id": "9bde8e0a",
   "metadata": {},
   "source": [
    "#### 8-. Contesta las siguientes preguntas:\n",
    "\n",
    "- ##### ¿Qué pasa si no se considera el problema de tener datos desbalanceados para este caso? ¿Por qué?\n",
    "    - Si no se considera el desbalanceo de datos, es probable que el modelo muestre sesgo hacia la clase 1. Lo que significa que podría ser preciso al clasificar la clase 2 pero su rendimiento en la clasificación de la otra clase sería deficiente, especialmente si se trata de casos críticos.\n",
    "- ##### De todos los clasificadores, ¿cuál o cuales consideras que son adecuados para los datos? ¿Qué propiedades tienen dichos modelos que los hacen apropiados para los datos? Argumenta tu respuesta.\n",
    "    - Para este conjunto de datos el mejor clasificador fue Logistic Regression. Esto se debe a que tiene uno de los F1-scores promedio más altos, lo que indica un buen equilibrio entre precisión y recall. Además, Logistic Regression es un modelo lineal que puede ser efectivo para problemas de clasificación, y su capacidad para manejar conjuntos de datos desbalanceados se puede mejorar utilizando la función de pérdida ponderada. Otros modelos, como SVM con kernel lineal y Linear Discriminant Analysis, también muestran un buen rendimiento, pero Logistic Regression tiene la ventaja de ser más interpretable y más fácil de ajustar.\n",
    "- ##### ¿Es posibles reducir la dimensionalidad del problema sin perder rendimiento en el modelo? ¿Por qué?\n",
    "    - Sí, es posible reducir la dimensionalidad del problema sin perder rendimiento en el modelo. Esto se evidencia en los resultados que muestran que al seleccionar un subconjunto de características relevantes, el rendimiento del modelo (F1-score) se mantiene o incluso mejora.  \n",
    "- ##### ¿Qué método de selección de características consideras el más adecuado para este caso? ¿Por qué?\n",
    "    - Haciendo una comparación de los tres métodos de selección de características la mejor para este caso fue el Filter-Wrapper porque demuestra su eficacia al seleccionar un subconjunto de características que mantiene o mejora el rendimiento del modelo, lo que indica que es capaz de reducir la dimensionalidad sin perder información crucial. Este método proporciona un equilibrio entre eficiencia computacional y capacidad de interpretación del modelo, lo que lo convierte en la elección más sólida para mejorar el rendimiento en este caso.\n",
    "- ##### Si quisieras mejorar el rendimiento de tus modelos, ¿qué más se podría hacer?\n",
    "    - Algunas estrategias adicionales que podrían considerar es probar diferentes algoritmos de aprendizaje automático y ajustar sus hiperparámetros. Aunque se han evaluado varios clasificadores, existen numerosos algoritmos que podrían adaptarse mejor a los datos, como las redes neuronales que hemos estado aprendiendo en clase además, del aumento de gradiente o máquinas de soporte vectorial con diferentes kernels. Otra última cosa que se me ocurre, es crear características derivadas de las existentes o incorporar información externa relevante para enriquecer el conjunto de datos. A veces, la calidad de las características es más importante que la cantidad, por lo que esta técnica podría tener un impacto significativo."
   ]
  },
  {
   "cell_type": "markdown",
   "id": "bc9ccbbc",
   "metadata": {},
   "source": [
    "### Ejercicio 2 (50 puntos)\n",
    "\n",
    "En este ejercicio trabajarás con datos que vienen de un experimento en el que se midió actividad muscular con la técnica de la Electromiografía en el brazo derecho de varios participantes cuando éstos realizaban un movimiento con la mano entre siete posible (Flexionar hacia arriba, Flexionar hacia abajo, Cerrar la mano, Estirar la mano, Abrir la mano, Coger un objeto, No moverse). Al igual que en el ejercicio anterior, los datos se cargan con la función loadtxt de numpy\n",
    "Links to an external site.. A su vez, la primera columna corresponde a la clase (1, 2, 3, 4, 5, 6, y 7), la segunda columna se ignora, y el resto de las columnas indican las variables que se calcularon de la respuesta muscular. El archivo de datos con el que trabajarás depende de tu matrícula."
   ]
  },
  {
   "cell_type": "code",
   "execution_count": 15,
   "id": "52931806",
   "metadata": {},
   "outputs": [],
   "source": [
    "df2 = np.loadtxt(\"M_5.txt\")"
   ]
  },
  {
   "cell_type": "markdown",
   "id": "fdcce9c1",
   "metadata": {},
   "source": [
    "####  1-. Determina si es necesario balancear los datos. En caso de que sea afirmativo, en todo este ejercicio tendrás que utilizar alguna estrategia para mitigar el problema de tener una muestra desbalanceada."
   ]
  },
  {
   "cell_type": "code",
   "execution_count": 16,
   "id": "be5c3770",
   "metadata": {},
   "outputs": [
    {
     "name": "stdout",
     "output_type": "stream",
     "text": [
      "----- Muestra desbalanceada -----\n",
      "              precision    recall  f1-score   support\n",
      "\n",
      "         1.0       0.97      0.92      0.94        90\n",
      "         2.0       0.67      0.73      0.70        90\n",
      "         3.0       0.98      0.97      0.97        90\n",
      "         4.0       0.99      0.97      0.98        90\n",
      "         5.0       0.96      0.98      0.97        90\n",
      "         6.0       0.72      0.69      0.70        90\n",
      "         7.0       0.98      0.99      0.98        89\n",
      "\n",
      "    accuracy                           0.89       629\n",
      "   macro avg       0.89      0.89      0.89       629\n",
      "weighted avg       0.89      0.89      0.89       629\n",
      "\n"
     ]
    }
   ],
   "source": [
    "##### Precisión con muestra desbalanceada #####\n",
    "print(\"----- Muestra desbalanceada -----\")\n",
    "x = df2[:,1:]\n",
    "y = df2[:,0]\n",
    "kf = StratifiedKFold(n_splits=5, shuffle = True)\n",
    "clf = SVC(kernel = 'linear')\n",
    "cv_y_test = []\n",
    "cv_y_pred = []\n",
    "for train_index, test_index in kf.split(x, y):\n",
    "    # Training phase\n",
    "    x_train = x[train_index, :]\n",
    "    y_train = y[train_index]\n",
    "    clf.fit(x_train, y_train)\n",
    "    # Test phase\n",
    "    x_test = x[test_index, :]\n",
    "    y_test = y[test_index]\n",
    "    y_pred = clf.predict(x_test)\n",
    "    cv_y_test.append(y_test)\n",
    "    cv_y_pred.append(y_pred)\n",
    "print(classification_report(np.concatenate(cv_y_test), np.concatenate(cv_y_pred)))"
   ]
  },
  {
   "cell_type": "code",
   "execution_count": 17,
   "id": "9c4085e4",
   "metadata": {},
   "outputs": [
    {
     "name": "stdout",
     "output_type": "stream",
     "text": [
      "----- Weighted loss function -----\n",
      "              precision    recall  f1-score   support\n",
      "\n",
      "         1.0       0.99      0.93      0.96        90\n",
      "         2.0       0.70      0.63      0.67        90\n",
      "         3.0       0.99      0.97      0.98        90\n",
      "         4.0       0.99      0.97      0.98        90\n",
      "         5.0       0.96      0.97      0.96        90\n",
      "         6.0       0.67      0.78      0.72        90\n",
      "         7.0       0.98      1.00      0.99        89\n",
      "\n",
      "    accuracy                           0.89       629\n",
      "   macro avg       0.90      0.89      0.89       629\n",
      "weighted avg       0.90      0.89      0.89       629\n",
      "\n"
     ]
    }
   ],
   "source": [
    "##### Precisión con una muestra balanceada (weighted loss function) #####\n",
    "print(\"----- Weighted loss function -----\")\n",
    "clf = SVC(kernel = 'linear', class_weight='balanced')\n",
    "kf = StratifiedKFold(n_splits=5, shuffle = True)\n",
    "cv_y_test = []\n",
    "cv_y_pred = []\n",
    "for train_index, test_index in kf.split(x, y):\n",
    "    # Training phase\n",
    "    x_train = x[train_index, :]\n",
    "    y_train = y[train_index]\n",
    "    clf.fit(x_train, y_train)\n",
    "    # Test phase\n",
    "    x_test = x[test_index, :]\n",
    "    y_test = y[test_index]\n",
    "    y_pred = clf.predict(x_test)\n",
    "    cv_y_test.append(y_test)\n",
    "    cv_y_pred.append(y_pred)\n",
    "print(classification_report(np.concatenate(cv_y_test), np.concatenate(cv_y_pred)))"
   ]
  },
  {
   "cell_type": "markdown",
   "id": "515842b1",
   "metadata": {},
   "source": [
    "Se evalúo con todas las estrategias de balanceo y la muestra sin balancear para reconocer si era necesario realizar el balanceo llegando a los siguientes resultados:\n",
    "- Muestra desbalanceada:\n",
    "    - Accuracy (Exactitud): 0.89\n",
    "    - F1-score para la clase 1: 0.94\n",
    "    - F1-score para la clase 2: 0.69\n",
    "    - F1-score para la clase 3: 0.97\n",
    "    - F1-score para la clase 4: 0.99\n",
    "    - F1-score para la clase 5: 0.96\n",
    "    - F1-score para la clase 6: 0.71\n",
    "    - F1-score para la clase 7: 0.98\n",
    "\n",
    "- Subsampling:\n",
    "\n",
    "    - Accuracy (Exactitud): 0.28\n",
    "    - F1-score para la clase 1: 0.49\n",
    "    - F1-score para la clase 2: 0.39\n",
    "    - F1-score para la clase 3: 0.00\n",
    "    - F1-score para la clase 4: 0.00\n",
    "    - F1-score para la clase 5: 0.00\n",
    "    - F1-score para la clase 6: 0.00\n",
    "    - F1-score para la clase 7: 0.00\n",
    "\n",
    "- Upsampling:\n",
    "    - Accuracy (Exactitud): 0.28\n",
    "    - F1-score para la clase 1: 0.47\n",
    "    - F1-score para la clase 2: 0.41\n",
    "    - F1-score para la clase 3: 0.00\n",
    "    - F1-score para la clase 4: 0.00\n",
    "    - F1-score para la clase 5: 0.00\n",
    "    - F1-score para la clase 6: 0.00\n",
    "    - F1-score para la clase 7: 0.00\n",
    "\n",
    "- Weighted Loss Function (Función de Pérdida Ponderada):\n",
    "    - Accuracy (Exactitud): 0.89\n",
    "    - F1-score para la clase 1: 0.95\n",
    "    - F1-score para la clase 2: 0.66\n",
    "    - F1-score para la clase 3: 0.97\n",
    "    - F1-score para la clase 4: 0.99\n",
    "    - F1-score para la clase 5: 0.94\n",
    "    - F1-score para la clase 6: 0.72\n",
    "    - F1-score para la clase 7: 0.99\n",
    "    \n",
    "Basándonos en estos resultados para este ejercicio 2, podemos observar que cuando no hay una estrategia de balanceo el rendimiento de la F1-score para las clases 1, 3, 4, 5, 7 es muy alta relativamente pero algunas clases preocupan como seria la 2 y 6. Y cuando aplicamos estrategias de balanceo las clases de subsampling y upsampling resultan en un bajo rendimiento en términos de precisión y F1-score para todas las clases, lo que indica que no son estrategias efectivas para este conjunto de datos desbalanceado. Pero la estrategia de Weighted Loss Function, es la única que muestra un rendimiento sólido en todas las clases, lo que sugiere que es una estrategia efectiva para mejorar la clasificación en un conjunto de datos desbalanceado. "
   ]
  },
  {
   "cell_type": "markdown",
   "id": "d0404645",
   "metadata": {},
   "source": [
    "#### 2-. Evalúa al menos 5 modelos de clasificación distintos utilizando validación cruzada, y determina cuál de ellos es el más efectivo."
   ]
  },
  {
   "cell_type": "code",
   "execution_count": 26,
   "id": "b6ed6060",
   "metadata": {
    "scrolled": true
   },
   "outputs": [
    {
     "name": "stdout",
     "output_type": "stream",
     "text": [
      "----- Linear-SVM -----\n",
      "              precision    recall  f1-score   support\n",
      "\n",
      "         1.0       0.98      0.94      0.96        90\n",
      "         2.0       0.65      0.64      0.65        90\n",
      "         3.0       0.98      0.97      0.97        90\n",
      "         4.0       0.99      0.97      0.98        90\n",
      "         5.0       0.97      0.98      0.97        90\n",
      "         6.0       0.67      0.71      0.69        90\n",
      "         7.0       0.98      0.99      0.98        89\n",
      "\n",
      "    accuracy                           0.89       629\n",
      "   macro avg       0.89      0.89      0.89       629\n",
      "weighted avg       0.89      0.89      0.89       629\n",
      "\n",
      "----- RBF-SVM -----\n",
      "              precision    recall  f1-score   support\n",
      "\n",
      "         1.0       0.95      0.91      0.93        90\n",
      "         2.0       0.71      0.64      0.67        90\n",
      "         3.0       1.00      0.96      0.98        90\n",
      "         4.0       1.00      0.94      0.97        90\n",
      "         5.0       0.90      0.98      0.94        90\n",
      "         6.0       0.69      0.78      0.73        90\n",
      "         7.0       0.98      0.99      0.98        89\n",
      "\n",
      "    accuracy                           0.89       629\n",
      "   macro avg       0.89      0.89      0.89       629\n",
      "weighted avg       0.89      0.89      0.89       629\n",
      "\n",
      "----- KNN -----\n",
      "              precision    recall  f1-score   support\n",
      "\n",
      "         1.0       0.96      0.90      0.93        90\n",
      "         2.0       0.68      0.63      0.66        90\n",
      "         3.0       1.00      0.92      0.96        90\n",
      "         4.0       0.99      0.96      0.97        90\n",
      "         5.0       0.90      0.94      0.92        90\n",
      "         6.0       0.66      0.79      0.72        90\n",
      "         7.0       0.98      0.99      0.98        89\n",
      "\n",
      "    accuracy                           0.88       629\n",
      "   macro avg       0.88      0.88      0.88       629\n",
      "weighted avg       0.88      0.88      0.88       629\n",
      "\n",
      "----- Decision Tree -----\n",
      "              precision    recall  f1-score   support\n",
      "\n",
      "         1.0       0.70      0.77      0.73        90\n",
      "         2.0       0.56      0.57      0.56        90\n",
      "         3.0       0.91      0.91      0.91        90\n",
      "         4.0       0.86      0.84      0.85        90\n",
      "         5.0       0.73      0.69      0.71        90\n",
      "         6.0       0.65      0.63      0.64        90\n",
      "         7.0       0.97      0.97      0.97        89\n",
      "\n",
      "    accuracy                           0.77       629\n",
      "   macro avg       0.77      0.77      0.77       629\n",
      "weighted avg       0.77      0.77      0.77       629\n",
      "\n",
      "----- Linear Discriminant Analysis -----\n",
      "              precision    recall  f1-score   support\n",
      "\n",
      "         1.0       0.84      0.80      0.82        90\n",
      "         2.0       0.55      0.54      0.55        90\n",
      "         3.0       0.95      0.87      0.91        90\n",
      "         4.0       0.88      0.91      0.90        90\n",
      "         5.0       0.79      0.78      0.78        90\n",
      "         6.0       0.56      0.64      0.60        90\n",
      "         7.0       1.00      0.98      0.99        89\n",
      "\n",
      "    accuracy                           0.79       629\n",
      "   macro avg       0.80      0.79      0.79       629\n",
      "weighted avg       0.80      0.79      0.79       629\n",
      "\n",
      "----- Random Forest -----\n",
      "              precision    recall  f1-score   support\n",
      "\n",
      "         1.0       0.92      0.88      0.90        90\n",
      "         2.0       0.66      0.66      0.66        90\n",
      "         3.0       0.98      0.92      0.95        90\n",
      "         4.0       0.95      0.91      0.93        90\n",
      "         5.0       0.83      0.91      0.87        90\n",
      "         6.0       0.70      0.71      0.70        90\n",
      "         7.0       0.98      1.00      0.99        89\n",
      "\n",
      "    accuracy                           0.86       629\n",
      "   macro avg       0.86      0.86      0.86       629\n",
      "weighted avg       0.86      0.86      0.86       629\n",
      "\n",
      "----- Logistic Regression -----\n",
      "              precision    recall  f1-score   support\n",
      "\n",
      "         1.0       1.00      0.91      0.95        90\n",
      "         2.0       0.67      0.67      0.67        90\n",
      "         3.0       1.00      0.96      0.98        90\n",
      "         4.0       0.99      0.99      0.99        90\n",
      "         5.0       0.94      0.98      0.96        90\n",
      "         6.0       0.68      0.73      0.71        90\n",
      "         7.0       0.98      1.00      0.99        89\n",
      "\n",
      "    accuracy                           0.89       629\n",
      "   macro avg       0.89      0.89      0.89       629\n",
      "weighted avg       0.89      0.89      0.89       629\n",
      "\n"
     ]
    }
   ],
   "source": [
    "models = {\n",
    "    'Linear-SVM' : SVC(kernel='linear'),\n",
    "    'RBF-SVM': SVC(kernel='rbf'),\n",
    "    'KNN': KNeighborsClassifier(),\n",
    "    'Decision Tree': DecisionTreeClassifier(),\n",
    "    'Linear Discriminant Analysis': LinearDiscriminantAnalysis(),\n",
    "    'Random Forest': RandomForestClassifier(),\n",
    "    'Logistic Regression': LogisticRegression(max_iter=10000)\n",
    "}\n",
    "\n",
    "avgf1_scores = {}\n",
    "scorer = make_scorer(f1_score)\n",
    "\n",
    "kf = StratifiedKFold(n_splits=5, shuffle=True, random_state=42)\n",
    "\n",
    "for model_name, model in models.items():\n",
    "    print(f\"----- {model_name} -----\")\n",
    "    cv_y_test = []\n",
    "    cv_y_pred = []\n",
    "    cv_f1_scores = []\n",
    "    for train_index, test_index in kf.split(x, y):\n",
    "        x_train = x[train_index, :]\n",
    "        y_train = y[train_index]\n",
    "        x_test = x[test_index, :]\n",
    "        y_test = y[test_index]\n",
    "        model.fit(x_train, y_train)\n",
    "        y_pred = model.predict(x_test)\n",
    "        cv_y_test.append(y_test)\n",
    "        cv_y_pred.append(y_pred)\n",
    "        f1_score_value = f1_score(y_test, y_pred, average='weighted')\n",
    "        cv_f1_scores.append(f1_score_value)\n",
    "    avg_f1_score = np.mean(cv_f1_scores)\n",
    "    avgf1_scores[model_name] = avg_f1_score\n",
    "    print(classification_report(np.concatenate(cv_y_test), np.concatenate(cv_y_pred)))\n",
    "    \n",
    "# Encuentra el modelo con el mejor F1-score promedio\n",
    "best_model = max(avgf1_scores, key=avgf1_scores.get)\n",
    "best_f1_score = avgf1_scores[best_model]"
   ]
  },
  {
   "cell_type": "code",
   "execution_count": 19,
   "id": "05f3b993",
   "metadata": {},
   "outputs": [
    {
     "name": "stdout",
     "output_type": "stream",
     "text": [
      "Resultados de rendimiento (F1-score promedio):\n",
      "Linear-SVM: 0.89\n",
      "RBF-SVM: 0.89\n",
      "KNN: 0.88\n",
      "Decision Tree: 0.76\n",
      "Linear Discriminant Analysis: 0.79\n",
      "Random Forest: 0.88\n",
      "Logistic Regression: 0.89\n",
      "El modelo más efectivo es Logistic Regression con un F1-score promedio de 0.89\n"
     ]
    }
   ],
   "source": [
    "print(\"Resultados de rendimiento (F1-score promedio):\")\n",
    "for model_name, score in avgf1_scores.items():\n",
    "    print(f\"{model_name}: {score:.2f}\")\n",
    "\n",
    "print(f\"El modelo más efectivo es {best_model} con un F1-score promedio de {best_f1_score:.2f}\")"
   ]
  },
  {
   "cell_type": "markdown",
   "id": "3f6d705a",
   "metadata": {},
   "source": [
    "#### 3-. Escoge al menos dos clasificadores que hayas evaluado en el paso anterior e identifica sus hiperparámetros. Lleva a cabo el proceso de validación cruzada anidada para evaluar los dos modelos con la selección óptima de hiperparámetros."
   ]
  },
  {
   "cell_type": "code",
   "execution_count": 20,
   "id": "0c2288f5",
   "metadata": {},
   "outputs": [],
   "source": [
    "from sklearn.model_selection import GridSearchCV\n",
    "\n",
    "classifiers = {\n",
    "    'LogisticRegression': LogisticRegression(max_iter=10000),\n",
    "    'SVM': SVC(kernel='linear')\n",
    "}\n",
    "\n",
    "param_grid = {\n",
    "    'LogisticRegression': {'C': [0.001, 0.01, 0.1, 1, 10, 100]},\n",
    "    'SVM': {'C': [0.001, 0.01, 0.1, 1, 10, 100]}\n",
    "}"
   ]
  },
  {
   "cell_type": "code",
   "execution_count": 21,
   "id": "2e0466d3",
   "metadata": {},
   "outputs": [],
   "source": [
    "x = df2[:,1:]\n",
    "y = df2[:,0]\n",
    "# Dividimos los datos en conjuntos de entrenamiento y prueba\n",
    "X_train, X_test, y_train, y_test = train_test_split(x, y, test_size=0.2, random_state=42)\n",
    "\n",
    "# Normaliza las características utilizando StandardScaler\n",
    "scaler = StandardScaler()\n",
    "X_train = scaler.fit_transform(X_train)\n",
    "X_test = scaler.transform(X_test)"
   ]
  },
  {
   "cell_type": "code",
   "execution_count": 22,
   "id": "47de9da9",
   "metadata": {},
   "outputs": [],
   "source": [
    "# Diccionario para almacenar los modelos ajustados con los mejores hiperparámetros\n",
    "best_models = {}\n",
    "results = {}\n",
    "\n",
    "for clf_name, clf in classifiers.items():\n",
    "    param_grid_clf = param_grid[clf_name]\n",
    "    inner_cv = StratifiedKFold(n_splits=5, shuffle=True, random_state=42)\n",
    "    outer_cv = StratifiedKFold(n_splits=5, shuffle=True, random_state=42)\n",
    "\n",
    "    # Buscamos los hiperparámetros óptimos en el bucle interno\n",
    "    grid_search = GridSearchCV(clf, param_grid_clf, cv=inner_cv, scoring='accuracy')\n",
    "    grid_search.fit(X_train, y_train)\n",
    "\n",
    "    # Almacenamos el mejor modelo con los hiperparámetros óptimos\n",
    "    best_models[clf_name] = grid_search.best_estimator_\n",
    "\n",
    "    # Evalúamos el modelo en el bucle externo con los mejores hiperparámetros\n",
    "    nested_score = cross_val_score(grid_search.best_estimator_, X=X_train, y=y_train, cv=outer_cv, scoring='accuracy')\n",
    "    results[clf_name] = {\n",
    "        'best_params': grid_search.best_params_,\n",
    "        'nested_cv_score': nested_score.mean()\n",
    "    }"
   ]
  },
  {
   "cell_type": "code",
   "execution_count": 23,
   "id": "ab725896",
   "metadata": {},
   "outputs": [
    {
     "name": "stdout",
     "output_type": "stream",
     "text": [
      "Classifier: LogisticRegression\n",
      "Best Parameters: {'C': 0.01}\n",
      "Nested CV Score (Mean Accuracy): 0.9006\n",
      "Classifier: SVM\n",
      "Best Parameters: {'C': 0.01}\n",
      "Nested CV Score (Mean Accuracy): 0.9026\n"
     ]
    }
   ],
   "source": [
    "# Imprimimos los resultados\n",
    "for clf_name, result in results.items():\n",
    "    print(f\"Classifier: {clf_name}\")\n",
    "    print(f\"Best Parameters: {result['best_params']}\")\n",
    "    print(f\"Nested CV Score (Mean Accuracy): {result['nested_cv_score']:.4f}\")"
   ]
  },
  {
   "cell_type": "markdown",
   "id": "fc034a52",
   "metadata": {},
   "source": [
    "#### 4-. Prepara tus modelos para producción haciendo lo siguiente:\n",
    "\n",
    "- ##### Opten los hiperparámetros óptimos utilizando todo el conjunto de datos con validación cruzada.\n",
    "- ##### Con los hiperparámetros óptimos, ajusta el modelo con todos los datos.\n"
   ]
  },
  {
   "cell_type": "code",
   "execution_count": 24,
   "id": "536fb670",
   "metadata": {},
   "outputs": [],
   "source": [
    "# Ajustamos el modelo con todos los datos utilizando los mejores hiperparámetros\n",
    "final_models = {}\n",
    "for clf_name, clf in best_models.items():\n",
    "    clf.fit(x, y)\n",
    "    final_models[clf_name] = clf"
   ]
  },
  {
   "cell_type": "code",
   "execution_count": 25,
   "id": "bd6523d0",
   "metadata": {},
   "outputs": [
    {
     "name": "stdout",
     "output_type": "stream",
     "text": [
      "Modelo: LogisticRegression\n",
      "Hiperparámetros óptimos: {'C': 0.01, 'class_weight': None, 'dual': False, 'fit_intercept': True, 'intercept_scaling': 1, 'l1_ratio': None, 'max_iter': 10000, 'multi_class': 'auto', 'n_jobs': None, 'penalty': 'l2', 'random_state': None, 'solver': 'lbfgs', 'tol': 0.0001, 'verbose': 0, 'warm_start': False}\n",
      "--------------------------------------------------\n",
      "Modelo: SVM\n",
      "Hiperparámetros óptimos: {'C': 0.01, 'break_ties': False, 'cache_size': 200, 'class_weight': None, 'coef0': 0.0, 'decision_function_shape': 'ovr', 'degree': 3, 'gamma': 'scale', 'kernel': 'linear', 'max_iter': -1, 'probability': False, 'random_state': None, 'shrinking': True, 'tol': 0.001, 'verbose': False}\n",
      "--------------------------------------------------\n"
     ]
    }
   ],
   "source": [
    "for model_name, model in final_models.items():\n",
    "    print(f\"Modelo: {model_name}\")\n",
    "    print(f\"Hiperparámetros óptimos: {model.get_params()}\")\n",
    "    print(\"-\" * 50)  "
   ]
  },
  {
   "cell_type": "markdown",
   "id": "af49ed68",
   "metadata": {},
   "source": [
    "#### 5-. Contesta lo siguientes:\n",
    "\n",
    "- ##### ¿Observas un problema en cuanto al balanceo de las clases? ¿Por qué?\n",
    "    - En el primer punto donde se requiere ver si es necesario balancear los datos, si se observa un problema en cuanto al balanceo. Porque las clases en respectiva de sus resultados iniciales sin balanceo tienen un desequilibrio significativo en términos de número de muestras, incluso, aún cuando se aplico las estrategias de subsampling y upsampling no muestra una mejora significativa en el rendimiento.\n",
    "- ##### ¿Qué modelo o modelos fueron efectivos para clasificar tus datos? ¿Observas algo especial sobre los modelos? Argumenta tu respuesta.\n",
    "    - Los modelos efectivos para clasificar estos datos fueron Logistic Regression, Linear-SVM-Linear y RBF-SVM. Estos modelos mostraron un rendimiento sólido en términos de F1-score promedio, lo que destaca su capacidad para manejar un conjunto de datos desbalanceado. Lo especial de estos modelos radica en su capacidad para lidiar con la naturaleza desbalanceada del conjunto de datos y su habilidad para clasificar datos en múltiples clases en un espacio dimensional alto, lo que los convierte en opciones efectivas para este caso.\n",
    "- ##### ¿Observas alguna mejora importante al optimizar hiperparámetros? ¿Es el resultado que esperabas? Argumenta tu respuesta.\n",
    "    - Sí, se observa una mejora importante al optimizar los hiperparámetros en ambos modelos (Logistic Regression y SVM-Linear) porque esta ayudó a mejorar el rendimiento de los modelos al encontrar configuraciones que se ajustan mejor a los datos. En el caso de Logistic Regression, se encontró que un valor óptimo de 'C' fue 0.1, lo que llevó a un aumento en el F1-score promedio. Para SVM-Linear, obtuvo un valor óptimo de 'C' igual a 0.01 lo que mejoró el rendimiento.\n",
    "- ##### ¿Qué inconvenientes hay al encontrar hiperparámetros? ¿Por qué?\n",
    "    - Encontrar hiperparámetros óptimos puede ser un proceso intensivo en términos de recursos computacionales y tiempo porque dependiendo de la cantidad de hiperparámetros y sus valores posibles, la búsqueda de la combinación óptima puede requerir una exploración exhaustiva, como la búsqueda en cuadrícula o la optimización bayesiana. Además, existe el riesgo de sobreajustar los hiperparámetros al conjunto de datos de entrenamiento, lo que podría llevar a un rendimiento deficiente en datos no vistos."
   ]
  }
 ],
 "metadata": {
  "kernelspec": {
   "display_name": "Python 3 (ipykernel)",
   "language": "python",
   "name": "python3"
  },
  "language_info": {
   "codemirror_mode": {
    "name": "ipython",
    "version": 3
   },
   "file_extension": ".py",
   "mimetype": "text/x-python",
   "name": "python",
   "nbconvert_exporter": "python",
   "pygments_lexer": "ipython3",
   "version": "3.10.9"
  }
 },
 "nbformat": 4,
 "nbformat_minor": 5
}
