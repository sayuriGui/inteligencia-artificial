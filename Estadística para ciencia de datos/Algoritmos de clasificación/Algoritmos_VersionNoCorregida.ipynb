{
 "cells": [
  {
   "cell_type": "markdown",
   "id": "bf896efa",
   "metadata": {},
   "source": [
    "# Algoritmos de clasificación \n",
    "### Tania Sayuri Guizado Hernandez A01640092"
   ]
  },
  {
   "cell_type": "markdown",
   "id": "b85beba3",
   "metadata": {},
   "source": [
    "Borra la variable \"Id\" de la base de datos, ya que esta no contiene información relevante. Explica los algoritmos que utilizan los métodos de clasificación: regresión logística, Bayes y análisis de discriminate. De ser el caso muestra las ecuaciones correspondientes.\n",
    "\n",
    "Utiliza los algoritmos de clasificación antes mencionados para predecir el tipo de planta.  Utiliza todas las variables de la base de datos como variables regresoras. Muestra la exactitud de cada modelo y su correspondiente matriz de confusión. ¿Qué modelo fue el méjor? ¿Por qué crees que se suceda esto?"
   ]
  },
  {
   "cell_type": "code",
   "execution_count": 1,
   "id": "837c2df9",
   "metadata": {},
   "outputs": [],
   "source": [
    "# Cargamos las librerías que utilizaremos en la actividad\n",
    "import pandas as pd\n",
    "import matplotlib.pyplot as plt\n",
    "from sklearn.model_selection import train_test_split\n",
    "from sklearn.linear_model import LogisticRegression\n",
    "from sklearn.naive_bayes import GaussianNB\n",
    "from sklearn.preprocessing import StandardScaler\n",
    "from sklearn.discriminant_analysis import LinearDiscriminantAnalysis\n",
    "from sklearn.metrics import accuracy_score, confusion_matrix\n",
    "from sklearn.preprocessing import LabelEncoder\n",
    "from sklearn.datasets import load_iris\n",
    "\n",
    "#Cargamos el dataset de la librería de sklearn.datasets\n",
    "df = load_iris()"
   ]
  },
  {
   "cell_type": "code",
   "execution_count": 2,
   "id": "f0b25e68",
   "metadata": {},
   "outputs": [],
   "source": [
    "#X y\n",
    "X = df.data\n",
    "y = df.target"
   ]
  },
  {
   "cell_type": "code",
   "execution_count": 3,
   "id": "dc7d74db",
   "metadata": {},
   "outputs": [],
   "source": [
    "## Dividir los datos en conjuntos de entrenamiento y prueba\n",
    "X_train, X_test, y_train, y_test = train_test_split(X,y,test_size=0.2,random_state=42)"
   ]
  },
  {
   "cell_type": "markdown",
   "id": "fd0b1f9a",
   "metadata": {},
   "source": [
    "## Métodos de clasificación\n",
    "### Regresión logística\n",
    "La regresión logística es un algoritmo de clasificación que se utiliza cuando se desea predecir la clase de una variable categórica en función de una o más variables. La fórmula de la regresión logística es:\n",
    "\n",
    "$P\\left(y=1∣X=x\\right)=1+e^{-\\left(β_0+β_1x\\right)}$\n",
    "\n",
    "\n",
    "* $P\\left(y=1∣X=x\\right)$ es la probabilidad de que la instancia $X$ pertenezca a la clase dada la muestra de datos\n",
    "* $β_0$ es el término de sesgo.\n",
    "* $β_1$ es el coeficiente asociado a la característica $X$."
   ]
  },
  {
   "cell_type": "code",
   "execution_count": 5,
   "id": "6e1fb9a1",
   "metadata": {},
   "outputs": [],
   "source": [
    "# Inicializar y entrenar el modelo de regresión logística\n",
    "logreg = LogisticRegression(max_iter=1000, random_state=0)\n",
    "logreg.fit(X_train, y_train)\n",
    "# Predecir en el conjunto de prueba\n",
    "logreg_preds=logreg.predict(X_test)"
   ]
  },
  {
   "cell_type": "code",
   "execution_count": 6,
   "id": "dd206a37",
   "metadata": {},
   "outputs": [],
   "source": [
    "# Calcular exactitud y matriz de confusión\n",
    "logreg_accuracy = accuracy_score(y_test, logreg_preds)\n",
    "logreg_confusion = confusion_matrix(y_test, logreg_preds)"
   ]
  },
  {
   "cell_type": "code",
   "execution_count": 7,
   "id": "3fda3189",
   "metadata": {},
   "outputs": [
    {
     "name": "stdout",
     "output_type": "stream",
     "text": [
      "Regresión Logística - Exactitud: 1.0\n",
      "\n",
      "Matriz de Confusión - Regresión Logística:\n",
      " [[10  0  0]\n",
      " [ 0  9  0]\n",
      " [ 0  0 11]]\n"
     ]
    }
   ],
   "source": [
    "#Imprimir los resultados\n",
    "print(\"Regresión Logística - Exactitud:\", logreg_accuracy)\n",
    "print(\"\\nMatriz de Confusión - Regresión Logística:\\n\", logreg_confusion)"
   ]
  },
  {
   "cell_type": "markdown",
   "id": "2d413452",
   "metadata": {},
   "source": [
    "### Naïve Bayes\n",
    "El clasificador Naïve Bayes se basa en el teorema de Bayes y  en el supuesto de independencia condicional entre características para un valor de clase determinado. Este mismo asume que todas las características son independientes dada la clase y que la distribución de las características se modela como una distribución Gaussiana. La formula es la siguiente:\n",
    "\n",
    "$P\\left(B∣A_i\\right)=\\frac{P\\left(B∣A_i\\right)P\\left(A_i\\right)}{\\sum _{k=1}^n\\:P\\left(B∣A_k\\right)P\\left(A_k\\right)}$\n",
    "\n",
    "* $P\\left(B∣A_i\\right)$ es la probabilidad de que un evento $B$ ocurra dado que el evento $A_i$ ha ocurrido.\n",
    "* $P\\left(A_i\\right)$ es la probabilidad de que ocurra el evento $A_i$ \n",
    "* $n$ es el número total de eventos posibles $A_1,A_2,…,A_n$.\n",
    "* $P\\left(B∣A_k\\right)$ es la probabilidad de que ocurra el evento $B$ dado que el evento $A_k$ ha ocurrido."
   ]
  },
  {
   "cell_type": "code",
   "execution_count": 8,
   "id": "7a5b0ddd",
   "metadata": {},
   "outputs": [],
   "source": [
    "# Inicializar y entrenar el modelo de Naïve Bayes\n",
    "nb = GaussianNB()\n",
    "nb.fit(X_train, y_train)\n",
    "# Predecir en el conjunto de prueba\n",
    "nb_preds = nb.predict(X_test)"
   ]
  },
  {
   "cell_type": "code",
   "execution_count": 9,
   "id": "dcfef776",
   "metadata": {},
   "outputs": [],
   "source": [
    "# Calcular exactitud y matriz de confusión\n",
    "nb_accuracy = accuracy_score(y_test, nb_preds)\n",
    "nb_confusion = confusion_matrix(y_test, nb_preds)"
   ]
  },
  {
   "cell_type": "code",
   "execution_count": 10,
   "id": "8eaa051c",
   "metadata": {},
   "outputs": [
    {
     "name": "stdout",
     "output_type": "stream",
     "text": [
      "Naive Bayes - Exactitud: 1.0\n",
      "\n",
      "Matriz de Confusión - Naive Bayes:\n",
      " [[10  0  0]\n",
      " [ 0  9  0]\n",
      " [ 0  0 11]]\n"
     ]
    }
   ],
   "source": [
    "#Imprimir los resultados\n",
    "print(\"Naive Bayes - Exactitud:\", nb_accuracy)\n",
    "print(\"\\nMatriz de Confusión - Naive Bayes:\\n\", nb_confusion)"
   ]
  },
  {
   "cell_type": "markdown",
   "id": "43695675",
   "metadata": {},
   "source": [
    "### Análisis de discriminante\n",
    "Es un algoritmo de clasificación que divide a las variables del Data Frame en diferentes grupos. La idea principal del algoritmo es seleccionar grupos tales que la covarianza entre elementos de la misma clase sea máxima y la covarianza entre elementos de diferentes clases sea mínima."
   ]
  },
  {
   "cell_type": "code",
   "execution_count": 11,
   "id": "1b229da2",
   "metadata": {},
   "outputs": [],
   "source": [
    "# Inicializar y entrenar el modelo del análisis de discriminate\n",
    "lda = LinearDiscriminantAnalysis()\n",
    "lda.fit(X_train, y_train)\n",
    "# Predecir en el conjunto de prueba\n",
    "lda_preds = lda.predict(X_test)"
   ]
  },
  {
   "cell_type": "code",
   "execution_count": 12,
   "id": "38d73f40",
   "metadata": {},
   "outputs": [],
   "source": [
    "# Calcular exactitud y matriz de confusión\n",
    "lda_accuracy = accuracy_score(y_test, lda_preds)\n",
    "lda_confusion = confusion_matrix(y_test, lda_preds)"
   ]
  },
  {
   "cell_type": "code",
   "execution_count": 13,
   "id": "eaeb3ef0",
   "metadata": {},
   "outputs": [
    {
     "name": "stdout",
     "output_type": "stream",
     "text": [
      "Análisis de Discriminante - Exactitud: 1.0\n",
      "\n",
      "Matriz de Confusión - LDA:\n",
      " [[10  0  0]\n",
      " [ 0  9  0]\n",
      " [ 0  0 11]]\n"
     ]
    }
   ],
   "source": [
    "#Imprimir los resultados\n",
    "print(\"Análisis de Discriminante - Exactitud:\", lda_accuracy)\n",
    "print(\"\\nMatriz de Confusión - LDA:\\n\", lda_confusion)"
   ]
  },
  {
   "cell_type": "markdown",
   "id": "4a25f4cb",
   "metadata": {},
   "source": [
    "### ¿Qué modelo fue el méjor? ¿Por qué crees que se suceda esto?\n",
    "En este conjunto de datos(iris), los modelos de regresión logística, Naive Bayes y análisis del discriminante han logrado la misma exactitud y matriz de confusión. Esta similitud sugiere que los tres modelos tienen un rendimiento similar en la tarea de clasificación haciendo posible que la distribución de los datos y las suposiciones de los algoritmos favorezcan a cada modelo en igual medida. Además, el tamaño del conjunto de datos puede ser el culpable de la falta de diferencias de rendimiento puedan verse claramente. \n",
    "\n",
    "Cuando los modelos logran resultados idénticos, puede indicar que las características subyacentes de los datos son capturadas igualmente por cada enfoque. Por lo tanto, en esta situación, argumento que no existe ningún modelo que funcione mejor en este caso y que la decisión podría tomarse en base a otras consideraciones, como la simplicidad del modelo y el tiempo de entrenamiento."
   ]
  }
 ],
 "metadata": {
  "kernelspec": {
   "display_name": "Python 3 (ipykernel)",
   "language": "python",
   "name": "python3"
  },
  "language_info": {
   "codemirror_mode": {
    "name": "ipython",
    "version": 3
   },
   "file_extension": ".py",
   "mimetype": "text/x-python",
   "name": "python",
   "nbconvert_exporter": "python",
   "pygments_lexer": "ipython3",
   "version": "3.10.9"
  }
 },
 "nbformat": 4,
 "nbformat_minor": 5
}
