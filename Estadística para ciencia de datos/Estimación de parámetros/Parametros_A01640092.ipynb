{
 "cells": [
  {
   "cell_type": "markdown",
   "metadata": {
    "id": "Dnez3buxY96L"
   },
   "source": [
    "# Actividad: estimación de parámetros\n",
    "## Tania Sayuri Guizado Hernández A01640092\n",
    "### Problema 1\n",
    "\n",
    "Un fabricante de baterías electrónicas está interesado en la duración de las baterías antes de que necesiten ser reemplazadas. Para evaluar esto, el fabricante ha realizado un estudio en el que probó baterías en condiciones normales y registró el tiempo (en horas) hasta que cada batería se agotó. Descarga la base de datos que obtuvo, la podrás encontrar en canvas con el nombre de \"baterías\".\n",
    "\n",
    "Dada la muestra de datos proporcionada ¿Cuál es el valor esperado poblacional (esperanza matemática) de la vida útil de las baterías?\n",
    "\n",
    "Hint: Compara los histogramas de una normal y una exponencial. Identifica cuál de estos describe mejor los datos."
   ]
  },
  {
   "cell_type": "code",
   "execution_count": 1,
   "metadata": {
    "id": "YuUBbAoEY45S"
   },
   "outputs": [],
   "source": [
    "import pandas as pd\n",
    "import numpy as np\n",
    "import matplotlib.pyplot as plt\n",
    "from scipy.stats import expon\n",
    "df = pd.read_excel(\"baterias(1).xlsx\")"
   ]
  },
  {
   "cell_type": "code",
   "execution_count": 2,
   "metadata": {
    "colab": {
     "base_uri": "https://localhost:8080/",
     "height": 490
    },
    "id": "VJmc2qdHZv1A",
    "outputId": "a4845c61-ea9e-41e2-879f-a30d01bd32d5"
   },
   "outputs": [
    {
     "data": {
      "text/plain": [
       "Text(0, 0.5, 'num_de_bateria')"
      ]
     },
     "execution_count": 2,
     "metadata": {},
     "output_type": "execute_result"
    },
    {
     "data": {
      "image/png": "[encoded data removed]",
      "text/plain": [
       "<Figure size 640x480 with 1 Axes>"
      ]
     },
     "metadata": {},
     "output_type": "display_data"
    }
   ],
   "source": [
    "# Histograma\n",
    "plt.hist(x=df['tiempo_hasta_agotar'],density=True, alpha=0.6, color='g')\n",
    "plt.title('Histograma')\n",
    "plt.xlabel('tiempo_hasta_agotar')\n",
    "plt.ylabel('num_de_bateria')"
   ]
  },
  {
   "cell_type": "code",
   "execution_count": 3,
   "metadata": {
    "colab": {
     "base_uri": "https://localhost:8080/"
    },
    "id": "24y1JjYdcaDX",
    "outputId": "9fc3479d-ae81-4431-de58-d4b65fdfd283"
   },
   "outputs": [
    {
     "name": "stdout",
     "output_type": "stream",
     "text": [
      "El valor esperado poblacional de la vida útil de las baterías es de:  0.32416864932174144\n"
     ]
    }
   ],
   "source": [
    "# Promedio de las x\n",
    "params = np.mean(df['tiempo_hasta_agotar'])\n",
    "\n",
    "#Parámetro lambda\n",
    "lambda_param = 1 / params\n",
    "\n",
    "#Valor esperado\n",
    "expected_value = 1 / lambda_param\n",
    "print('El valor esperado poblacional de la vida útil de las baterías es de: ', expected_value)"
   ]
  },
  {
   "cell_type": "markdown",
   "metadata": {
    "id": "OH_GoYRBZh74"
   },
   "source": [
    "### Problema 2\n",
    "Un equipo de soporte técnico está investigando cuántos intentos se requieren en promedio para resolver un problema de software común. Registraron el número de intentos realizados antes de que se resolviera el problema. Podrás encontrar los resultados obtenidos en la base de datos llamada software disponible en canvas. Dada la muestra de datos proporcionada, intuye de forma poblacional ¿cuál es la probabilidad de resolver el problema?\n"
   ]
  },
  {
   "cell_type": "code",
   "execution_count": 4,
   "metadata": {
    "id": "JNcILugihB9q"
   },
   "outputs": [],
   "source": [
    "df2 = pd.read_excel(\"software.xlsx\")"
   ]
  },
  {
   "cell_type": "code",
   "execution_count": 5,
   "metadata": {
    "colab": {
     "base_uri": "https://localhost:8080/"
    },
    "id": "VRa4U2zJhGUA",
    "outputId": "179e365b-9db8-41c7-f7f4-05f9253becdd"
   },
   "outputs": [
    {
     "name": "stdout",
     "output_type": "stream",
     "text": [
      "La probabilidad de resolver el problema es de: 3.358\n"
     ]
    }
   ],
   "source": [
    "#Calcular la p\n",
    "p = df2.shape[0]/df2['intentos_hasta_resolver'].sum()\n",
    "\n",
    "#Valor esperado\n",
    "expect_value = 1/p\n",
    "print('La probabilidad de resolver el problema es de:', expect_value)"
   ]
  }
 ],
 "metadata": {
  "colab": {
   "provenance": []
  },
  "kernelspec": {
   "display_name": "Python 3 (ipykernel)",
   "language": "python",
   "name": "python3"
  },
  "language_info": {
   "codemirror_mode": {
    "name": "ipython",
    "version": 3
   },
   "file_extension": ".py",
   "mimetype": "text/x-python",
   "name": "python",
   "nbconvert_exporter": "python",
   "pygments_lexer": "ipython3",
   "version": "3.10.9"
  }
 },
 "nbformat": 4,
 "nbformat_minor": 1
}
