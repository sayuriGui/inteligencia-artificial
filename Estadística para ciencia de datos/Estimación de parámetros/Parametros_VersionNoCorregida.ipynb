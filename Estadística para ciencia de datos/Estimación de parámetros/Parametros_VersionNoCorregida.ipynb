{
  "nbformat": 4,
  "nbformat_minor": 0,
  "metadata": {
    "colab": {
      "provenance": []
    },
    "kernelspec": {
      "name": "python3",
      "display_name": "Python 3"
    },
    "language_info": {
      "name": "python"
    }
  },
  "cells": [
    {
      "cell_type": "markdown",
      "source": [
        "# Actividad: estimación de parámetros\n",
        "## Tania Sayuri Guizado Hernández A01640092\n",
        "### Problema 1\n",
        "\n",
        "Un fabricante de baterías electrónicas está interesado en la duración de las baterías antes de que necesiten ser reemplazadas. Para evaluar esto, el fabricante ha realizado un estudio en el que probó baterías en condiciones normales y registró el tiempo (en horas) hasta que cada batería se agotó. Descarga la base de datos que obtuvo, la podrás encontrar en canvas con el nombre de \"baterías\".\n",
        "\n",
        "Dada la muestra de datos proporcionada ¿Cuál es el valor esperado poblacional (esperanza matemática) de la vida útil de las baterías?\n",
        "\n",
        "Hint: Compara los histogramas de una normal y una exponencial. Identifica cuál de estos describe mejor los datos."
      ],
      "metadata": {
        "id": "Dnez3buxY96L"
      }
    },
    {
      "cell_type": "code",
      "execution_count": null,
      "metadata": {
        "id": "YuUBbAoEY45S"
      },
      "outputs": [],
      "source": [
        "import pandas as pd\n",
        "import numpy as np\n",
        "import matplotlib.pyplot as plt\n",
        "from scipy.stats import expon\n",
        "df = pd.read_excel(\"/content/baterias(1).xlsx\")"
      ]
    },
    {
      "cell_type": "code",
      "source": [
        "# Histograma\n",
        "plt.hist(x=df['tiempo_hasta_agotar'],density=True, alpha=0.6, color='g')\n",
        "plt.title('Histograma')\n",
        "plt.xlabel('tiempo_hasta_agotar')\n",
        "plt.ylabel('num_de_bateria')"
      ],
      "metadata": {
        "colab": {
          "base_uri": "https://localhost:8080/",
          "height": 490
        },
        "id": "VJmc2qdHZv1A",
        "outputId": "a4845c61-ea9e-41e2-879f-a30d01bd32d5"
      },
      "execution_count": null,
      "outputs": [
        {
          "output_type": "execute_result",
          "data": {
            "text/plain": [
              "Text(0, 0.5, 'num_de_bateria')"
            ]
          },
          "metadata": {},
          "execution_count": 2
        },
        {
          "output_type": "display_data",
          "data": {
            "text/plain": [
              "<Figure size 640x480 with 1 Axes>"
            ],
            "image/png": "[encoded data removed]"
          },
          "metadata": {}
        }
      ]
    },
    {
      "cell_type": "code",
      "source": [
        "# Promedio de las x\n",
        "params = np.mean(df['tiempo_hasta_agotar'])\n",
        "\n",
        "#Parámetro lambda\n",
        "lambda_param = 1 / params\n",
        "\n",
        "#Valor esperado\n",
        "expected_value = 1 / lambda_param\n",
        "print('El valor esperado poblacional de la vida útil de las baterías es de: ', expected_value)"
      ],
      "metadata": {
        "colab": {
          "base_uri": "https://localhost:8080/"
        },
        "id": "24y1JjYdcaDX",
        "outputId": "9fc3479d-ae81-4431-de58-d4b65fdfd283"
      },
      "execution_count": null,
      "outputs": [
        {
          "output_type": "stream",
          "name": "stdout",
          "text": [
            "El valor esperado poblacional de la vida útil de las baterías es de:  0.32416864932174144\n"
          ]
        }
      ]
    },
    {
      "cell_type": "markdown",
      "source": [
        "### Problema 2\n",
        "Un equipo de soporte técnico está investigando cuántos intentos se requieren en promedio para resolver un problema de software común. Registraron el número de intentos realizados antes de que se resolviera el problema. Podrás encontrar los resultados obtenidos en la base de datos llamada software disponible en canvas. Dada la muestra de datos proporcionada, intuye de forma poblacional ¿cuál es la probabilidad de resolver el problema?\n"
      ],
      "metadata": {
        "id": "OH_GoYRBZh74"
      }
    },
    {
      "cell_type": "code",
      "source": [
        "df2 = pd.read_excel(\"/content/software.xlsx\")"
      ],
      "metadata": {
        "id": "JNcILugihB9q"
      },
      "execution_count": null,
      "outputs": []
    },
    {
      "cell_type": "code",
      "source": [
        "#Calcular la p\n",
        "p = (df2.shape[0]/df2['intentos_hasta_resolver']).sum()\n",
        "\n",
        "#Valor esperado\n",
        "expect_value = 1/p\n",
        "print('La probabilidad de resolver el problema es de:', expect_value)"
      ],
      "metadata": {
        "colab": {
          "base_uri": "https://localhost:8080/"
        },
        "id": "VRa4U2zJhGUA",
        "outputId": "179e365b-9db8-41c7-f7f4-05f9253becdd"
      },
      "execution_count": null,
      "outputs": [
        {
          "output_type": "stream",
          "name": "stdout",
          "text": [
            "La probabilidad de resolver el problema es de: 8.562747833152243e-07\n"
          ]
        }
      ]
    },
    {
      "cell_type": "code",
      "source": [],
      "metadata": {
        "id": "SwKvdjG6molX"
      },
      "execution_count": null,
      "outputs": []
    }
  ]
}