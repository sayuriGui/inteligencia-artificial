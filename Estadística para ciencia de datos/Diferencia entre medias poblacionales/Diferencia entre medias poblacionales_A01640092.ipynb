{
 "cells": [
  {
   "cell_type": "markdown",
   "metadata": {
    "id": "PTdEM-qmfW_z"
   },
   "source": [
    "# Actividad: Diferencia entre medias poblacionales\n",
    "## Tania Sayuri Guizado Hernández A01640092\n",
    "### Problema 1:\n",
    "Un científico de datos está analizando los niveles de sódio en dos lotes diferentes de un mismo producto. El científico quiere determinar si los niveles de sódio son iguales para ambos lotes, por lo tanto, recabó las siguientes dos muestras de datos\n",
    "\n",
    "**Lote A -(número de muestras 15): Nivel de Sodio (mg) -> 180, 160, 170, 190, 200, 175, 185, 195, 180, 170, 190, 185, 200, 175, 165**\n",
    "\n",
    "**Lote B - (número de muestras 20): Nivel de Sodio (mg) -> 210, 215, 220, 225, 230, 215, 220, 225, 230, 235, 210, 215, 220, 225, 230, 215, 220, 225, 230, 23**\n",
    "\n",
    "La varianza poblacional para el lote A es 57.05 y para el lote B  34.63. Con un nivel del confianza del 85% determina si ambos lotes tienen en promedio el mismo nivel de sódio."
   ]
  },
  {
   "cell_type": "code",
   "execution_count": 1,
   "metadata": {
    "id": "Gb0mZbC2gHDM"
   },
   "outputs": [],
   "source": [
    "#Cargamos las librerías necesarias para la actividad\n",
    "import numpy as np\n",
    "import pandas as pd\n",
    "from scipy import stats\n",
    "from scipy.stats import norm\n",
    "from statsmodels.stats.weightstats import ztest"
   ]
  },
  {
   "cell_type": "markdown",
   "metadata": {
    "id": "dQPjqtSTmlgv"
   },
   "source": [
    "### **Prueba Z**\n",
    "\n",
    "Hipotesis nula\n",
    "\n",
    "$H_0: \\mu_1 = \\mu_2$\n",
    "\n",
    "Estadistica de prueba\n",
    "\n",
    "$Z=\\frac{\\overline{x_1}-\\overline{x_2}}{\\sqrt{\\frac{\\sigma_1^2}{m}+\\frac{\\sigma_2^2}{n}}}$\n"
   ]
  },
  {
   "cell_type": "code",
   "execution_count": 2,
   "metadata": {
    "colab": {
     "base_uri": "https://localhost:8080/"
    },
    "id": "J0WdxwmwfRgO",
    "outputId": "274cca4b-8e3a-47ea-beae-eb52e8723007"
   },
   "outputs": [
    {
     "name": "stdout",
     "output_type": "stream",
     "text": [
      "Valor de z_statistic:  -12.147837775431165\n",
      "Valor de z_critical:  1.4395314709384563\n",
      "Se rechaza la hipótesis nula. Hay evidencia estadística para afirmar que los niveles de sodio no son iguales en ambos lotes.\n"
     ]
    }
   ],
   "source": [
    "# Datos\n",
    "lote_a = [180, 160, 170, 190, 200, 175, 185, 195, 180, 170, 190, 185, 200, 175, 165]\n",
    "lote_b = [210, 215, 220, 225, 230, 215, 220, 225, 230, 235, 210, 215, 220, 225, 230, 215, 220, 225, 230, 235]\n",
    "\n",
    "# Varianzas poblacionales\n",
    "var_a = 57.05\n",
    "var_b = 34.63\n",
    "\n",
    "# Nivel de confianza\n",
    "confidence_level = 0.85\n",
    "\n",
    "# Medias y tamaño del arreglo\n",
    "mean_a = np.mean(lote_a)\n",
    "mean_b = np.mean(lote_b)\n",
    "n_a = len(lote_a)\n",
    "n_b = len(lote_b)\n",
    "\n",
    "# Realizar prueba Z\n",
    "z_statistic, _ = ztest(lote_a, lote_b, value=0, alternative='two-sided')\n",
    "\n",
    "# Valor crítico z basado en el nivel de confianza\n",
    "z_critical = stats.norm.ppf(1 - (1 - confidence_level) / 2)\n",
    "\n",
    "# Comparar el estadístico z con el valor crítico\n",
    "if abs(z_statistic) > z_critical:\n",
    "    print('Valor de z_statistic: ',z_statistic)\n",
    "    print('Valor de z_critical: ',z_critical)\n",
    "    print(\"Se rechaza la hipótesis nula. Hay evidencia estadística para afirmar que los niveles de sodio no son iguales en ambos lotes.\")\n",
    "else:\n",
    "    print(\"No se rechaza la hipótesis nula. No hay evidencia estadística para afirmar que los niveles de sodio son diferentes en ambos lotes.\")\n"
   ]
  },
  {
   "cell_type": "markdown",
   "metadata": {
    "id": "fAw4zVn-gwqT"
   },
   "source": [
    "### Problema 4\n",
    "Se han tomado dos muestras del número de días que tardan los egresados de las universidades A y B en encontrar trabajo\n",
    "\n",
    "**Universidad A: -> 180, 200, 190, 210, 175, 185, 195, 180, 205, 190, 200, 185, 210, 175, 195**\n",
    "\n",
    "**Universidad B: -> 210, 215, 220, 225, 230, 215, 220, 225, 230, 235, 210, 215, 220, 225, 230, 235**\n",
    "\n",
    " Utilizando un nivel de confianza del 95%, determina si hay evidencia estadística suficiente para concluir que existe una diferencia significativa en el tiempo promedio de busqueda de empleo entre ambas universidades.\n",
    "\n",
    "Hint: Utiliza la distribución t-student\n"
   ]
  },
  {
   "cell_type": "code",
   "execution_count": 3,
   "metadata": {
    "colab": {
     "base_uri": "https://localhost:8080/"
    },
    "id": "KC5Vzk5dfmdT",
    "outputId": "bc610dd9-8c66-4252-f8e5-e33375bf3071"
   },
   "outputs": [
    {
     "name": "stdout",
     "output_type": "stream",
     "text": [
      "Valor de t:  -8.431518513947449\n",
      "Valor de t_critical:  2.0395134463964077\n",
      "Se rechaza la hipótesis nula. Hay evidencia estadística para afirmar que existe una diferencia significativa en el tiempo promedio de búsqueda de empleo entre ambas universidades.\n"
     ]
    }
   ],
   "source": [
    "# Datos\n",
    "universidad_a = np.array([180, 200, 190, 210, 175, 185, 195, 180, 205, 190, 200, 185, 210, 175, 195])\n",
    "universidad_b = np.array([210, 215, 220, 225, 230, 215, 220, 225, 230, 235, 210, 215, 220, 225, 230, 235])\n",
    "\n",
    "# Nivel de confianza\n",
    "confidence_level = 0.95\n",
    "\n",
    "# Medias, desviación y tamaños\n",
    "mean_diff = np.mean(universidad_a) - np.mean(universidad_b)\n",
    "n = len(universidad_a)\n",
    "m = len(universidad_b)\n",
    "s_a = np.std(universidad_a, ddof=1)\n",
    "s_b = np.std(universidad_b, ddof=1)\n",
    "s_diff = np.sqrt((s_a**2/n)+(s_b**2/m))\n",
    "\n",
    "# Estadístico de prueba t\n",
    "t = mean_diff / s_diff\n",
    "\n",
    "# Definir el valor crítico de acuerdo al nivel de confianza y los grados de libertad\n",
    "alpha = 1 - confidence_level\n",
    "degrees_freedom = len(universidad_a) + len(universidad_b)\n",
    "\n",
    "# Valor crítico\n",
    "t_critical = stats.t.ppf(1 - alpha / 2, degrees_freedom)\n",
    "\n",
    "# Comparación\n",
    "if abs(t) > t_critical:\n",
    "    print('Valor de t: ',t)\n",
    "    print('Valor de t_critical: ',t_critical)\n",
    "    print(\"Se rechaza la hipótesis nula. Hay evidencia estadística para afirmar que existe una diferencia significativa en el tiempo promedio de búsqueda de empleo entre ambas universidades.\")\n",
    "else:\n",
    "    print(\"No se rechaza la hipótesis nula. No hay evidencia estadística para afirmar que hay una diferencia significativa en el tiempo promedio de búsqueda de empleo entre ambas universidades.\")"
   ]
  }
 ],
 "metadata": {
  "colab": {
   "provenance": []
  },
  "kernelspec": {
   "display_name": "Python 3 (ipykernel)",
   "language": "python",
   "name": "python3"
  },
  "language_info": {
   "codemirror_mode": {
    "name": "ipython",
    "version": 3
   },
   "file_extension": ".py",
   "mimetype": "text/x-python",
   "name": "python",
   "nbconvert_exporter": "python",
   "pygments_lexer": "ipython3",
   "version": "3.10.9"
  }
 },
 "nbformat": 4,
 "nbformat_minor": 1
}
