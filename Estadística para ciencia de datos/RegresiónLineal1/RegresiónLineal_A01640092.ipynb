{
 "cells": [
  {
   "cell_type": "markdown",
   "metadata": {},
   "source": [
    "# Actividad: Regresión Lineal\n",
    "### Tania Sayuri Guizado Hernandez A01640092"
   ]
  },
  {
   "cell_type": "markdown",
   "metadata": {},
   "source": [
    "Utiliza un modelo de regresión lineal múltiple para predecir el salario en dolares (salary_in_usd) de cada empleado. Las variables regresoras de tu modelo deben de ser las siguientes: nivel de experiencia (experience_level), tipo de empleo (employment_type), salario (salary) y radio remoto (remote_ratio)."
   ]
  },
  {
   "cell_type": "markdown",
   "metadata": {},
   "source": [
    "Importamos las librerías necesarias para el desarrollo  de la actividad."
   ]
  },
  {
   "cell_type": "code",
   "execution_count": 1,
   "metadata": {
    "id": "_VafbLbgHmpY"
   },
   "outputs": [],
   "source": [
    "import pandas as pd\n",
    "import numpy as np\n",
    "import statsmodels.formula.api as smf\n",
    "import matplotlib.pyplot as plt\n",
    "import statsmodels.api as sm\n",
    "from scipy import stats\n",
    "from sklearn.preprocessing import StandardScaler\n",
    "from sklearn.model_selection import train_test_split\n",
    "df = pd.read_csv('ds_salaries.csv')"
   ]
  },
  {
   "cell_type": "markdown",
   "metadata": {},
   "source": [
    "Confirmamos que la base de datos este completa y no contenga valores nulos. Ya que de lo contrario será necesario realizar una imputación de datos."
   ]
  },
  {
   "cell_type": "code",
   "execution_count": 2,
   "metadata": {
    "colab": {
     "base_uri": "https://localhost:8080/"
    },
    "id": "ZJDWOGpJIwR5",
    "outputId": "86414d99-77a0-4c9a-8c9c-cb2e79697ef6"
   },
   "outputs": [
    {
     "data": {
      "text/plain": [
       "Unnamed: 0            0\n",
       "work_year             0\n",
       "experience_level      0\n",
       "employment_type       0\n",
       "job_title             0\n",
       "salary                0\n",
       "salary_currency       0\n",
       "salary_in_usd         0\n",
       "employee_residence    0\n",
       "remote_ratio          0\n",
       "company_location      0\n",
       "company_size          0\n",
       "dtype: int64"
      ]
     },
     "execution_count": 2,
     "metadata": {},
     "output_type": "execute_result"
    }
   ],
   "source": [
    "df.isnull().sum()"
   ]
  },
  {
   "cell_type": "markdown",
   "metadata": {},
   "source": [
    "Eliminamos las columnas que contiene información que no será utilizada en el modelo."
   ]
  },
  {
   "cell_type": "code",
   "execution_count": 3,
   "metadata": {
    "id": "icvIGYpfJ4lp"
   },
   "outputs": [],
   "source": [
    "df = df.drop(['job_title','salary_currency','employee_residence','company_location','company_size','work_year'],axis=1)"
   ]
  },
  {
   "cell_type": "markdown",
   "metadata": {},
   "source": [
    "Como los datos de las columnas de 'experience_level' y 'employment_type' son categóricos, se procede a convertirlos a numéricos para poder trabajar con ellos."
   ]
  },
  {
   "cell_type": "code",
   "execution_count": 4,
   "metadata": {
    "id": "D5ozYbWAL-QT"
   },
   "outputs": [],
   "source": [
    "dummiesExp = pd.get_dummies(df['experience_level'],prefix ='ExpLevel')"
   ]
  },
  {
   "cell_type": "code",
   "execution_count": 5,
   "metadata": {
    "id": "Y6xmiiM6MI_s"
   },
   "outputs": [],
   "source": [
    "dummiesEmp = pd.get_dummies(df['employment_type'],prefix ='EmpType')"
   ]
  },
  {
   "cell_type": "markdown",
   "metadata": {},
   "source": [
    "Las dummies creadas las concatenamos al dataframe original y eliminamos la columna original de la variable categórica.\n",
    "\n"
   ]
  },
  {
   "cell_type": "code",
   "execution_count": 6,
   "metadata": {
    "id": "2OngvxnQMgLA"
   },
   "outputs": [],
   "source": [
    "df=pd.concat([df,dummiesExp,dummiesEmp],axis=1)"
   ]
  },
  {
   "cell_type": "code",
   "execution_count": 7,
   "metadata": {
    "id": "-mMeEhj_Ms3E"
   },
   "outputs": [],
   "source": [
    "df = df.drop(['experience_level','employment_type','Unnamed: 0'],axis=1)"
   ]
  },
  {
   "cell_type": "markdown",
   "metadata": {},
   "source": [
    "Comenzando con nuestro modelo de regresión lineal multiple, el cual se basa en la siguiente ecuación:\n",
    "y = b0 + b1*x1 + b2*x2 + ... + bn*xn + e\n",
    "Donde:\n",
    "y = variable dependiente\n",
    "x1, x2, ..., xn = variables independientes\n",
    "b0 = constante\n",
    "b1, b2, ..., bn = coeficientes\n",
    "e = error aleatorio\n",
    "\n",
    "Veremos si las variables regresoras son independientes, revisando la correlación entre ellas."
   ]
  },
  {
   "cell_type": "code",
   "execution_count": 8,
   "metadata": {
    "id": "7ic6ephCM7g_"
   },
   "outputs": [],
   "source": [
    "correlacion= df.corr()"
   ]
  },
  {
   "cell_type": "code",
   "execution_count": 9,
   "metadata": {
    "id": "0r-7rbM6NCzx"
   },
   "outputs": [],
   "source": [
    "alta_corr=np.where((correlacion>0.95)&(correlacion<1))"
   ]
  },
  {
   "cell_type": "code",
   "execution_count": 10,
   "metadata": {
    "colab": {
     "base_uri": "https://localhost:8080/"
    },
    "id": "id-8nKMkNEe7",
    "outputId": "3535c63f-e420-4427-a65f-7b8e357c046f"
   },
   "outputs": [
    {
     "data": {
      "text/plain": [
       "(array([], dtype=int64), array([], dtype=int64))"
      ]
     },
     "execution_count": 10,
     "metadata": {},
     "output_type": "execute_result"
    }
   ],
   "source": [
    "alta_corr"
   ]
  },
  {
   "cell_type": "code",
   "execution_count": 11,
   "metadata": {
    "id": "BL4kR0QkNHLd"
   },
   "outputs": [],
   "source": [
    "baja_corr=np.where((correlacion<-0.95)&(correlacion>-1))"
   ]
  },
  {
   "cell_type": "code",
   "execution_count": 12,
   "metadata": {
    "colab": {
     "base_uri": "https://localhost:8080/"
    },
    "id": "75neque4NJf6",
    "outputId": "4164db0e-5dea-4ed7-d3c8-38c54b480a2e"
   },
   "outputs": [
    {
     "data": {
      "text/plain": [
       "(array([], dtype=int64), array([], dtype=int64))"
      ]
     },
     "execution_count": 12,
     "metadata": {},
     "output_type": "execute_result"
    }
   ],
   "source": [
    "baja_corr"
   ]
  },
  {
   "cell_type": "markdown",
   "metadata": {},
   "source": [
    "Al no encontrar ni baja ni alta correlación entre las variables, se procede a realizar la regresión lineal múltiple con todas las variables."
   ]
  },
  {
   "cell_type": "code",
   "execution_count": 13,
   "metadata": {},
   "outputs": [],
   "source": [
    "df=pd.DataFrame(df,columns=df.columns)"
   ]
  },
  {
   "cell_type": "code",
   "execution_count": 14,
   "metadata": {},
   "outputs": [],
   "source": [
    "entrenamiento, prueba =train_test_split(df,test_size=0.2,random_state=42)"
   ]
  },
  {
   "cell_type": "code",
   "execution_count": 15,
   "metadata": {},
   "outputs": [
    {
     "name": "stdout",
     "output_type": "stream",
     "text": [
      "                            OLS Regression Results                            \n",
      "==============================================================================\n",
      "Dep. Variable:          salary_in_usd   R-squared:                       0.264\n",
      "Model:                            OLS   Adj. R-squared:                  0.252\n",
      "Method:                 Least Squares   F-statistic:                     21.37\n",
      "Date:                Fri, 15 Sep 2023   Prob (F-statistic):           8.41e-28\n",
      "Time:                        16:58:59   Log-Likelihood:                -6044.0\n",
      "No. Observations:                 485   AIC:                         1.211e+04\n",
      "Df Residuals:                     476   BIC:                         1.214e+04\n",
      "Df Model:                           8                                         \n",
      "Covariance Type:            nonrobust                                         \n",
      "================================================================================\n",
      "                   coef    std err          t      P>|t|      [0.025      0.975]\n",
      "--------------------------------------------------------------------------------\n",
      "Intercept     9.787e+04   2.44e+04      4.015      0.000       5e+04    1.46e+05\n",
      "salary          -0.0067      0.003     -2.251      0.025      -0.013      -0.001\n",
      "remote_ratio   103.1885     70.546      1.463      0.144     -35.431     241.809\n",
      "ExpLevel_EN  -7.485e+04   8886.547     -8.423      0.000   -9.23e+04   -5.74e+04\n",
      "ExpLevel_EX   6.662e+04   1.42e+04      4.698      0.000    3.88e+04    9.45e+04\n",
      "ExpLevel_MI   -4.79e+04   6485.002     -7.387      0.000   -6.06e+04   -3.52e+04\n",
      "EmpType_CT    7.688e+04   3.89e+04      1.974      0.049     367.309    1.53e+05\n",
      "EmpType_FL   -3707.2560   5.04e+04     -0.073      0.941   -1.03e+05    9.54e+04\n",
      "EmpType_FT    3.578e+04   2.34e+04      1.531      0.126   -1.01e+04    8.17e+04\n",
      "==============================================================================\n",
      "Omnibus:                      242.000   Durbin-Watson:                   1.979\n",
      "Prob(Omnibus):                  0.000   Jarque-Bera (JB):             2005.484\n",
      "Skew:                           2.000   Prob(JB):                         0.00\n",
      "Kurtosis:                      12.123   Cond. No.                     2.01e+07\n",
      "==============================================================================\n",
      "\n",
      "Notes:\n",
      "[1] Standard Errors assume that the covariance matrix of the errors is correctly specified.\n",
      "[2] The condition number is large, 2.01e+07. This might indicate that there are\n",
      "strong multicollinearity or other numerical problems.\n"
     ]
    }
   ],
   "source": [
    "modelo = smf.ols(formula='salary_in_usd~salary+remote_ratio+ExpLevel_EN+ExpLevel_EX+ExpLevel_MI+EmpType_CT+EmpType_FL+EmpType_FT',data=entrenamiento)\n",
    "modelo= modelo.fit()\n",
    "print(modelo.summary())"
   ]
  },
  {
   "cell_type": "markdown",
   "metadata": {},
   "source": [
    "Encontramos el siguiente error en nuestro modelo 'The condition number is large, 2.01e+07. This might indicate that there are\n",
    "strong multicollinearity or other numerical problems.' lo cual nos indica que dos o más de nuestras variables regresoras están altamente correlacionadas entre sí. Esta situación puede ser problemática porque dificulta la interpretación de los coeficientes de regresión y puede afectar la estabilidad y precisión de las estimaciones. Por eso es necesario estandarizar."
   ]
  },
  {
   "cell_type": "code",
   "execution_count": 16,
   "metadata": {
    "id": "FO1j01eJH5rH"
   },
   "outputs": [],
   "source": [
    "scaler = StandardScaler()"
   ]
  },
  {
   "cell_type": "code",
   "execution_count": 17,
   "metadata": {
    "id": "KyVNnZKpH7HP"
   },
   "outputs": [],
   "source": [
    "df_estandar=scaler.fit_transform(df)"
   ]
  },
  {
   "cell_type": "code",
   "execution_count": 18,
   "metadata": {
    "id": "2POKvB3hNhzO"
   },
   "outputs": [],
   "source": [
    "df_estandar=pd.DataFrame(df_estandar,columns=df.columns)"
   ]
  },
  {
   "cell_type": "markdown",
   "metadata": {},
   "source": [
    "Una vez realizada la estandarización realizamos el modelo una vez más. Pero si las variables regresoras de 'remote_ratio','EmpType_FL','EmpType_FT'y'EmpType_CT' porque su p-valor era mayor a 0.05 y como tal si las variables son menor que el nivel de significancia se consideran que el coeficiente es estadísticamente significativo."
   ]
  },
  {
   "cell_type": "code",
   "execution_count": 19,
   "metadata": {
    "id": "GqgRG5idOOHS"
   },
   "outputs": [],
   "source": [
    "entrenamiento, prueba =train_test_split(df_estandar,test_size=0.2,random_state=42)"
   ]
  },
  {
   "cell_type": "code",
   "execution_count": 20,
   "metadata": {
    "colab": {
     "base_uri": "https://localhost:8080/"
    },
    "id": "H2QyQS7oOzao",
    "outputId": "36be8d57-c37d-4d4f-ac61-3e603902332d"
   },
   "outputs": [
    {
     "name": "stdout",
     "output_type": "stream",
     "text": [
      "                            OLS Regression Results                            \n",
      "==============================================================================\n",
      "Dep. Variable:          salary_in_usd   R-squared:                       0.253\n",
      "Model:                            OLS   Adj. R-squared:                  0.247\n",
      "Method:                 Least Squares   F-statistic:                     40.70\n",
      "Date:                Fri, 15 Sep 2023   Prob (F-statistic):           2.24e-29\n",
      "Time:                        16:59:00   Log-Likelihood:                -630.66\n",
      "No. Observations:                 485   AIC:                             1271.\n",
      "Df Residuals:                     480   BIC:                             1292.\n",
      "Df Model:                           4                                         \n",
      "Covariance Type:            nonrobust                                         \n",
      "===============================================================================\n",
      "                  coef    std err          t      P>|t|      [0.025      0.975]\n",
      "-------------------------------------------------------------------------------\n",
      "Intercept       0.0178      0.041      0.438      0.662      -0.062       0.098\n",
      "salary         -0.1487      0.065     -2.299      0.022      -0.276      -0.022\n",
      "ExpLevel_EN    -0.3851      0.043     -9.048      0.000      -0.469      -0.301\n",
      "ExpLevel_EX     0.1974      0.040      4.883      0.000       0.118       0.277\n",
      "ExpLevel_MI    -0.3305      0.044     -7.573      0.000      -0.416      -0.245\n",
      "==============================================================================\n",
      "Omnibus:                      239.858   Durbin-Watson:                   1.990\n",
      "Prob(Omnibus):                  0.000   Jarque-Bera (JB):             1925.137\n",
      "Skew:                           1.990   Prob(JB):                         0.00\n",
      "Kurtosis:                      11.912   Cond. No.                         1.84\n",
      "==============================================================================\n",
      "\n",
      "Notes:\n",
      "[1] Standard Errors assume that the covariance matrix of the errors is correctly specified.\n"
     ]
    }
   ],
   "source": [
    "modelo = smf.ols(formula='salary_in_usd~salary+ExpLevel_EN+ExpLevel_EX+ExpLevel_MI',data=entrenamiento)\n",
    "modelo= modelo.fit()\n",
    "print(modelo.summary())"
   ]
  },
  {
   "cell_type": "markdown",
   "metadata": {},
   "source": [
    "La R^2 es de 0.253 lo que indica que aproximadamente el 25.3% de la variabilidad en el salario se explica por las variables regresoras en el modelo. La interpretación de los coeficientes es que, manteniendo las otras variables constantes, 'ExpLevel_EN' y 'ExpLevel_MI' está asociado con una disminución en el salario mientras que 'ExpLevel_EX' está asociado con un aumento. Los p-valores sugieren que 'ExpLevel_EN', 'ExpLevel_EX' y 'ExpLevel_MI' son estadísticamente significativos en relación con el salario, mientras que 'salary' no lo es. "
   ]
  },
  {
   "cell_type": "markdown",
   "metadata": {},
   "source": [
    "Continuamos con hacer una predicción del salario en dolares, con las variables regresoras menores a p-valor de 0.05"
   ]
  },
  {
   "cell_type": "code",
   "execution_count": 21,
   "metadata": {
    "id": "XsgRQllJQpTD"
   },
   "outputs": [],
   "source": [
    "y_aprox=-0.1487*prueba['salary']-0.3851*prueba['ExpLevel_EN']+0.1974*prueba['ExpLevel_EX']-0.3305*prueba['ExpLevel_MI']"
   ]
  },
  {
   "cell_type": "markdown",
   "metadata": {},
   "source": [
    "Una vez con eso formamos una tabla que compare los valores con los valores reales y los errores."
   ]
  },
  {
   "cell_type": "code",
   "execution_count": 22,
   "metadata": {
    "id": "tHI__9b7RbWF"
   },
   "outputs": [],
   "source": [
    "tabla=pd.DataFrame({'Real':prueba['salary_in_usd'],'Prediccion':y_aprox, 'Errores':prueba['salary_in_usd']-y_aprox})"
   ]
  },
  {
   "cell_type": "markdown",
   "metadata": {},
   "source": [
    "Graficamos para poder apreciar los valores de predicción contra los reales."
   ]
  },
  {
   "cell_type": "code",
   "execution_count": 23,
   "metadata": {
    "colab": {
     "base_uri": "https://localhost:8080/",
     "height": 466
    },
    "id": "qeiyp8ZeRr2C",
    "outputId": "176dace7-036b-4942-e4a3-0f61cb9af80a"
   },
   "outputs": [
    {
     "data": {
      "text/plain": [
       "Text(0, 0.5, 'Prediccion')"
      ]
     },
     "execution_count": 23,
     "metadata": {},
     "output_type": "execute_result"
    },
    {
     "data": {
      "image/png": "[encoded data removed]",
      "text/plain": [
       "<Figure size 640x480 with 1 Axes>"
      ]
     },
     "metadata": {},
     "output_type": "display_data"
    }
   ],
   "source": [
    "plt.scatter(prueba['salary_in_usd'],y_aprox,color='gray')\n",
    "plt.plot(prueba['salary_in_usd'],prueba['salary_in_usd'],color='red')\n",
    "plt.xlabel('Datos reales')\n",
    "plt.ylabel('Prediccion')"
   ]
  },
  {
   "cell_type": "markdown",
   "metadata": {},
   "source": [
    "La gráfica de datos de predicción y reales no muestra una relación lineal clara entre las variables. En un modelo de regresión lineal múltiple, se esperaría que la distribución de puntos se aproxime a la línea recta. Sin embargo, en este caso, los puntos parecen estar dispuestos de manera horizontal y no siguen una tendencia lineal evidente. Esto sugiere que la relación entre las variables no puede ser adecuadamente modelada mediante una línea recta, lo que podría deberse a la presencia de efectos no lineales o relaciones más complejas entre las variables. \n",
    "\n",
    "Podemos concluir que el modelo de regresión lineal múltiple no sea el más adecuado."
   ]
  },
  {
   "cell_type": "markdown",
   "metadata": {},
   "source": [
    "Procedemos a hacer nuestra gráfica de residuos"
   ]
  },
  {
   "cell_type": "code",
   "execution_count": 24,
   "metadata": {
    "id": "6VHkaAANDsuW"
   },
   "outputs": [],
   "source": [
    "residuos=len(tabla['Errores'])"
   ]
  },
  {
   "cell_type": "code",
   "execution_count": 25,
   "metadata": {
    "colab": {
     "base_uri": "https://localhost:8080/",
     "height": 466
    },
    "id": "X-cAyDTFD8mn",
    "outputId": "00caccd5-8ddb-41b9-8b41-b89c973dd6c4"
   },
   "outputs": [
    {
     "data": {
      "text/plain": [
       "Text(0, 0.5, 'valor del residuo')"
      ]
     },
     "execution_count": 25,
     "metadata": {},
     "output_type": "execute_result"
    },
    {
     "data": {
      "image/png": "[encoded data removed]",
      "text/plain": [
       "<Figure size 640x480 with 1 Axes>"
      ]
     },
     "metadata": {},
     "output_type": "display_data"
    }
   ],
   "source": [
    "plt.scatter(range(residuos),tabla['Errores'],color='gray')\n",
    "plt.axhline(y=0,linestyle='--',color='black')\n",
    "plt.xlabel('numero del residuo')\n",
    "plt.ylabel('valor del residuo')"
   ]
  },
  {
   "cell_type": "markdown",
   "metadata": {},
   "source": [
    "Al ver nuestra gráfica de residuos podemos reafirmar con patrón no lineal en la distribución de los residuos, podría dar a entender que la relación probablemente no es bien modelada por una regresión lineal múltiple."
   ]
  },
  {
   "cell_type": "markdown",
   "metadata": {},
   "source": [
    "Proseguimos con el histograma de los residuos"
   ]
  },
  {
   "cell_type": "code",
   "execution_count": 26,
   "metadata": {
    "colab": {
     "base_uri": "https://localhost:8080/",
     "height": 489
    },
    "id": "XTVFx4QoD9pR",
    "outputId": "0501b5e1-ae0e-455b-d858-6f74a20f22b1"
   },
   "outputs": [
    {
     "data": {
      "text/plain": [
       "Text(0, 0.5, 'Frecuencia(prob)')"
      ]
     },
     "execution_count": 26,
     "metadata": {},
     "output_type": "execute_result"
    },
    {
     "data": {
      "image/png": "[encoded data removed]",
      "text/plain": [
       "<Figure size 640x480 with 1 Axes>"
      ]
     },
     "metadata": {},
     "output_type": "display_data"
    }
   ],
   "source": [
    "plt.hist(x=tabla['Errores'],color='orange')\n",
    "plt.title('Histograma residuos')\n",
    "plt.xlabel('Residuos')\n",
    "plt.ylabel('Frecuencia(prob)')"
   ]
  },
  {
   "cell_type": "markdown",
   "metadata": {},
   "source": [
    "La forma en la que vemos el histograma de residuos puede interpretarse en el sentido de que los valores más grandes son más frecuentes  que los valores más pequeños y que la cola de la distribución se extiende hacia la derecha.\n",
    "\n",
    "Que este cargado a la derecha puede significar que hay valores atípicos en ese lado que afectan la forma de la distribución. En el contexto de la regresión,, esta puede referirse a observaciones con valores inusualmente altos que afectan la relación entre variables y afectan la evaluación del modelo."
   ]
  },
  {
   "cell_type": "markdown",
   "metadata": {},
   "source": [
    "Antes de hacer nuestro test de de Kolmogorov estandarizamos los los errores residuales."
   ]
  },
  {
   "cell_type": "code",
   "execution_count": 27,
   "metadata": {
    "id": "q9BvpQscECXz"
   },
   "outputs": [],
   "source": [
    "media=tabla['Errores'].mean()\n",
    "std=tabla['Errores'].std()\n",
    "errores_est =(tabla['Errores']-media)/std"
   ]
  },
  {
   "cell_type": "markdown",
   "metadata": {},
   "source": [
    "Realizamos el test de Kolmogorov porque será lo que compare la distribución de los errores estandarizados con la distribución normal esperada. "
   ]
  },
  {
   "cell_type": "code",
   "execution_count": 28,
   "metadata": {
    "colab": {
     "base_uri": "https://localhost:8080/"
    },
    "id": "8tvy0wffEIFn",
    "outputId": "c734a37f-f263-42ab-a412-f727fe4e4bda"
   },
   "outputs": [
    {
     "data": {
      "text/plain": [
       "KstestResult(statistic=0.08386626965908772, pvalue=0.3384571399227415, statistic_location=0.11879539469254466, statistic_sign=1)"
      ]
     },
     "execution_count": 28,
     "metadata": {},
     "output_type": "execute_result"
    }
   ],
   "source": [
    "stats.kstest(errores_est,'norm')"
   ]
  },
  {
   "cell_type": "markdown",
   "metadata": {},
   "source": [
    "Los resultados del test de Kolmogorov aplicado a los errores estandarizados del modelo de regresión lineal múltiple muestra un valor de aproximadamente 0.084 y un p--valor de 0.338. Y en este caso, dado que el p-valor es mayor que 0.05, no hay suficiente evidencia para rechazar la hipótesis nula de que los errores estandarizados se distribuyen normalmente."
   ]
  },
  {
   "cell_type": "markdown",
   "metadata": {},
   "source": [
    "Por último haremos el QQ-plot que compara la distribución de los errores residuales con una distribución normal."
   ]
  },
  {
   "cell_type": "code",
   "execution_count": 29,
   "metadata": {
    "colab": {
     "base_uri": "https://localhost:8080/",
     "height": 449
    },
    "id": "hWiOscn9EJ-j",
    "outputId": "c34e8194-6b15-454c-c70e-485496023adc"
   },
   "outputs": [
    {
     "data": {
      "image/png": "[encoded data removed]",
      "text/plain": [
       "<Figure size 640x480 with 1 Axes>"
      ]
     },
     "metadata": {},
     "output_type": "display_data"
    }
   ],
   "source": [
    "QQ=sm.qqplot(tabla['Errores'],stats.norm,line='45')"
   ]
  },
  {
   "cell_type": "markdown",
   "metadata": {
    "id": "3FxUAHPorODo"
   },
   "source": [
    "Para el QQ-plot que estamos graficando, se esperaría que los puntos se ajustaran a la línea roja, ya que esto significaría que los errores se distribuyen normalmente. En esete caso nuestros datos de los errores no son normales y por eso los puntos se desvían ligeramente hacia arriba.\n",
    "\n",
    "\n",
    "En teoría esta gráfica se puede relacionar con nuestro histograma de residuos."
   ]
  }
 ],
 "metadata": {
  "colab": {
   "provenance": []
  },
  "kernelspec": {
   "display_name": "Python 3 (ipykernel)",
   "language": "python",
   "name": "python3"
  },
  "language_info": {
   "codemirror_mode": {
    "name": "ipython",
    "version": 3
   },
   "file_extension": ".py",
   "mimetype": "text/x-python",
   "name": "python",
   "nbconvert_exporter": "python",
   "pygments_lexer": "ipython3",
   "version": "3.10.9"
  }
 },
 "nbformat": 4,
 "nbformat_minor": 1
}
